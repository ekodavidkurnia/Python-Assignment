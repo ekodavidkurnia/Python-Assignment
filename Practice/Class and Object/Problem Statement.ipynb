{
 "cells": [
  {
   "cell_type": "markdown",
   "metadata": {},
   "source": [
    "> Level 1\n",
    "- Create class called data\n",
    "\n",
    "- class variable in init is file_name, file_type, date, size\n",
    "- create function file_open() that should create a file if not exist\n",
    "- create function file_read() that sould read the file\n",
    "- create function file_append() that append new data in same file and show\n",
    "\n",
    "> Level 2\n",
    "- give exception handling, logger "
   ]
  },
  {
   "cell_type": "markdown",
   "metadata": {},
   "source": [
    "## Level 1"
   ]
  },
  {
   "cell_type": "code",
   "execution_count": 26,
   "metadata": {},
   "outputs": [],
   "source": [
    "class data:\n",
    "    \n",
    "    def __init__(self, file_name, file_type, date, size):\n",
    "        self.file_name = file_name\n",
    "        self.file_type = file_type        \n",
    "        self.date = date        \n",
    "        self.size = size\n",
    "    \n",
    "    def file_open(self):\n",
    "        try:\n",
    "            with open(f'{self.file_name}.{self.file_type}', 'w') as w:\n",
    "                w.write('This is created test file')\n",
    "        except Exception as e:\n",
    "            print(e)\n",
    "    \n",
    "    def file_read(self):\n",
    "        try:\n",
    "            with open(f'{self.file_name}.{self.file_type}', 'r') as w:\n",
    "                for line in w:\n",
    "                    print(line)\n",
    "        except Exception as e:\n",
    "            print(e)\n",
    "        \n",
    "    def file_append(self, new_data):\n",
    "        try:\n",
    "            with open(f'{self.file_name}.{self.file_type}', 'a') as w:\n",
    "                w.write(new_data)\n",
    "        except Exception as e:\n",
    "            print(e)\n",
    "    def __str__(self):\n",
    "        return \"this is data class that can manipulate data as instructed\"\n",
    "               "
   ]
  },
  {
   "cell_type": "code",
   "execution_count": 27,
   "metadata": {},
   "outputs": [],
   "source": [
    "tek = data('file1', 'txt', 2021, '2MB')"
   ]
  },
  {
   "cell_type": "code",
   "execution_count": 28,
   "metadata": {},
   "outputs": [],
   "source": [
    "tek.file_open()"
   ]
  },
  {
   "cell_type": "code",
   "execution_count": 29,
   "metadata": {},
   "outputs": [
    {
     "name": "stdout",
     "output_type": "stream",
     "text": [
      "This is created test file\n"
     ]
    }
   ],
   "source": [
    "tek.file_read()"
   ]
  },
  {
   "cell_type": "code",
   "execution_count": 30,
   "metadata": {},
   "outputs": [],
   "source": [
    "tek.file_append(' and this is appended text')"
   ]
  },
  {
   "cell_type": "code",
   "execution_count": 31,
   "metadata": {},
   "outputs": [
    {
     "name": "stdout",
     "output_type": "stream",
     "text": [
      "This is created test file and this is appended text\n"
     ]
    }
   ],
   "source": [
    "tek.file_read()"
   ]
  },
  {
   "cell_type": "markdown",
   "metadata": {},
   "source": [
    "## Level 2"
   ]
  },
  {
   "cell_type": "code",
   "execution_count": 42,
   "metadata": {},
   "outputs": [],
   "source": [
    "import logging as lg\n",
    "lg.basicConfig(filename= 'OOPS.log', level=lg.INFO)\n",
    "\n",
    "class data:\n",
    "    \n",
    "    def __init__(self, file_name, file_type, date, size):\n",
    "        self.file_name = file_name\n",
    "        self.file_type = file_type        \n",
    "        self.date = date        \n",
    "        self.size = size\n",
    "    \n",
    "    def file_open(self):\n",
    "        try:\n",
    "            with open(f'{self.file_name}.{self.file_type}', 'w') as w:\n",
    "                w.write('This is created test file')\n",
    "        except Exception as e:\n",
    "            self.logger(e)\n",
    "            print(e)\n",
    "    \n",
    "    def file_read(self):\n",
    "        try:\n",
    "            with open(f'{self.file_name}.{self.file_type}', 'r') as w:\n",
    "                for line in w:\n",
    "                    print(line)\n",
    "        except Exception as e:\n",
    "            self.logger(e)\n",
    "            print(e)\n",
    "        \n",
    "    def file_append(self, new_data):\n",
    "        try:\n",
    "            with open(f'{self.file_name}.{self.file_type}', 'a') as w:\n",
    "                w.write(new_data)\n",
    "        except Exception as e:\n",
    "            self.logger(e)\n",
    "            print(e)\n",
    "            \n",
    "    def logger(self, log):\n",
    "        return lg.error(log)\n",
    "    \n",
    "    def __str__(self):\n",
    "        return \"this is data class that can manipulate data as instructed\"\n",
    "               "
   ]
  },
  {
   "cell_type": "code",
   "execution_count": 43,
   "metadata": {},
   "outputs": [],
   "source": [
    "tek2 = data('file2', 'txt', 2021, '2MB')"
   ]
  },
  {
   "cell_type": "code",
   "execution_count": 44,
   "metadata": {},
   "outputs": [],
   "source": [
    "tek2.file_open()"
   ]
  },
  {
   "cell_type": "code",
   "execution_count": 45,
   "metadata": {},
   "outputs": [
    {
     "name": "stdout",
     "output_type": "stream",
     "text": [
      "This is created test file\n"
     ]
    }
   ],
   "source": [
    "tek2.file_read()"
   ]
  },
  {
   "cell_type": "code",
   "execution_count": 46,
   "metadata": {},
   "outputs": [
    {
     "ename": "TypeError",
     "evalue": "file_read() takes 1 positional argument but 2 were given",
     "output_type": "error",
     "traceback": [
      "\u001b[1;31m---------------------------------------------------------------------------\u001b[0m",
      "\u001b[1;31mTypeError\u001b[0m                                 Traceback (most recent call last)",
      "\u001b[1;32m<ipython-input-46-445add8d9ce7>\u001b[0m in \u001b[0;36m<module>\u001b[1;34m\u001b[0m\n\u001b[1;32m----> 1\u001b[1;33m \u001b[0mtek2\u001b[0m\u001b[1;33m.\u001b[0m\u001b[0mfile_read\u001b[0m\u001b[1;33m(\u001b[0m\u001b[1;34m'amab'\u001b[0m\u001b[1;33m)\u001b[0m\u001b[1;33m\u001b[0m\u001b[1;33m\u001b[0m\u001b[0m\n\u001b[0m",
      "\u001b[1;31mTypeError\u001b[0m: file_read() takes 1 positional argument but 2 were given"
     ]
    }
   ],
   "source": [
    "tek2.file_read('amab')"
   ]
  },
  {
   "cell_type": "code",
   "execution_count": null,
   "metadata": {},
   "outputs": [],
   "source": []
  }
 ],
 "metadata": {
  "kernelspec": {
   "display_name": "Python 3",
   "language": "python",
   "name": "python3"
  },
  "language_info": {
   "codemirror_mode": {
    "name": "ipython",
    "version": 3
   },
   "file_extension": ".py",
   "mimetype": "text/x-python",
   "name": "python",
   "nbconvert_exporter": "python",
   "pygments_lexer": "ipython3",
   "version": "3.8.6"
  }
 },
 "nbformat": 4,
 "nbformat_minor": 4
}
