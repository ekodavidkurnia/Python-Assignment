{
 "cells": [
  {
   "cell_type": "markdown",
   "metadata": {},
   "source": [
    "# Logging"
   ]
  },
  {
   "cell_type": "markdown",
   "metadata": {},
   "source": [
    "1. DEBUG\n",
    "2. INFO\n",
    "3. WARNING\n",
    "4. ERROR\n",
    "5. CRITICAL"
   ]
  },
  {
   "cell_type": "code",
   "execution_count": 1,
   "metadata": {},
   "outputs": [],
   "source": [
    "import logging as lg"
   ]
  },
  {
   "cell_type": "code",
   "execution_count": 2,
   "metadata": {},
   "outputs": [],
   "source": [
    "import os\n",
    "os.mkdir('logging')"
   ]
  },
  {
   "cell_type": "code",
   "execution_count": 1,
   "metadata": {},
   "outputs": [],
   "source": [
    "import os"
   ]
  },
  {
   "cell_type": "code",
   "execution_count": 2,
   "metadata": {},
   "outputs": [],
   "source": [
    "os.chdir('logging')"
   ]
  },
  {
   "cell_type": "code",
   "execution_count": 3,
   "metadata": {},
   "outputs": [
    {
     "data": {
      "text/plain": [
       "'E:\\\\VSC\\\\ineuron class\\\\logging'"
      ]
     },
     "execution_count": 3,
     "metadata": {},
     "output_type": "execute_result"
    }
   ],
   "source": [
    "pwd()"
   ]
  },
  {
   "cell_type": "code",
   "execution_count": 5,
   "metadata": {},
   "outputs": [],
   "source": [
    "lg.basicConfig(filename = 'test.log', level = lg.ERROR, format = '%(asctime)s %(message)s')"
   ]
  },
  {
   "cell_type": "code",
   "execution_count": 6,
   "metadata": {},
   "outputs": [],
   "source": [
    "lg.info('I am going to make info')"
   ]
  },
  {
   "cell_type": "code",
   "execution_count": 7,
   "metadata": {},
   "outputs": [],
   "source": [
    "lg.warning('I am going to make WARNING')"
   ]
  },
  {
   "cell_type": "code",
   "execution_count": 8,
   "metadata": {},
   "outputs": [],
   "source": [
    "lg.error('I am going to make ERROR')"
   ]
  },
  {
   "cell_type": "code",
   "execution_count": 9,
   "metadata": {},
   "outputs": [
    {
     "ename": "TypeError",
     "evalue": "can only concatenate str (not \"int\") to str",
     "output_type": "error",
     "traceback": [
      "\u001b[1;31m---------------------------------------------------------------------------\u001b[0m",
      "\u001b[1;31mTypeError\u001b[0m                                 Traceback (most recent call last)",
      "\u001b[1;32m<ipython-input-9-57bf28598c70>\u001b[0m in \u001b[0;36m<module>\u001b[1;34m\u001b[0m\n\u001b[1;32m----> 1\u001b[1;33m \u001b[1;34m'sjjkabjkbdjk'\u001b[0m \u001b[1;33m+\u001b[0m \u001b[1;36m345\u001b[0m\u001b[1;33m\u001b[0m\u001b[1;33m\u001b[0m\u001b[0m\n\u001b[0m",
      "\u001b[1;31mTypeError\u001b[0m: can only concatenate str (not \"int\") to str"
     ]
    }
   ],
   "source": [
    "'sjjkabjkbdjk' + 345"
   ]
  },
  {
   "cell_type": "code",
   "execution_count": 14,
   "metadata": {},
   "outputs": [],
   "source": [
    "def test(a,b):\n",
    "    try:\n",
    "        lg.info(str(a)+str(b))\n",
    "        div = a/b\n",
    "        return div\n",
    "    except Exception as e:\n",
    "        print('you can check your log for more info')\n",
    "        lg.error('error has occured')\n",
    "        lg.exception(str(e))"
   ]
  },
  {
   "cell_type": "code",
   "execution_count": 18,
   "metadata": {},
   "outputs": [
    {
     "name": "stdout",
     "output_type": "stream",
     "text": [
      "you can check your log for more info\n"
     ]
    }
   ],
   "source": [
    "test(4,0)"
   ]
  },
  {
   "cell_type": "code",
   "execution_count": 7,
   "metadata": {},
   "outputs": [],
   "source": [
    "import logging as lg\n",
    "lg.basicConfig(filename='test1.log', level=lg.INFO)\n",
    "def test(a,b):\n",
    "    lg.info('this is start of function')\n",
    "    return a+b"
   ]
  },
  {
   "cell_type": "code",
   "execution_count": 9,
   "metadata": {},
   "outputs": [
    {
     "data": {
      "text/plain": [
       "8"
      ]
     },
     "execution_count": 9,
     "metadata": {},
     "output_type": "execute_result"
    }
   ],
   "source": [
    "test(3,5)"
   ]
  },
  {
   "cell_type": "code",
   "execution_count": 12,
   "metadata": {},
   "outputs": [],
   "source": [
    "def test(a,b):\n",
    "    lg.info(str(a)+str(b))\n",
    "    return a+b"
   ]
  },
  {
   "cell_type": "code",
   "execution_count": 13,
   "metadata": {},
   "outputs": [
    {
     "data": {
      "text/plain": [
       "9"
      ]
     },
     "execution_count": 13,
     "metadata": {},
     "output_type": "execute_result"
    }
   ],
   "source": [
    "test(3,6)"
   ]
  },
  {
   "cell_type": "code",
   "execution_count": 14,
   "metadata": {},
   "outputs": [],
   "source": [
    "lg.shutdown()"
   ]
  },
  {
   "cell_type": "code",
   "execution_count": 5,
   "metadata": {},
   "outputs": [],
   "source": [
    "import logging as lg\n",
    "lg.basicConfig(filename='test2.log', level=lg.INFO)\n",
    "lg.info('this is my INFO log')\n",
    "lg.debug('this is my BUG log')\n",
    "lg.warning('this is my WARNING log')\n",
    "lg.exception('this is my EXCEPTION log')\n",
    "lg.error('this is my ERROR log')\n",
    "lg.critical('this is my CRITICAL log')"
   ]
  },
  {
   "cell_type": "code",
   "execution_count": 6,
   "metadata": {},
   "outputs": [],
   "source": [
    "lg.debug('this is my BUG log')"
   ]
  },
  {
   "cell_type": "code",
   "execution_count": 7,
   "metadata": {},
   "outputs": [],
   "source": [
    "lg.exception('this is my EXCEPTION log')"
   ]
  },
  {
   "cell_type": "markdown",
   "metadata": {},
   "source": [
    "#Q1 Create a logger in your code <br>\n",
    "#Q2 Create one function which can take any number of input as an argument and will be able to return sum of it<br>\n",
    "#Q3 Capture user input in log<br>\n",
    "#Q4 Give user instruction  in log file<br>\n",
    "#Q5 read a log file from python code and show all login console<br>"
   ]
  },
  {
   "cell_type": "code",
   "execution_count": 4,
   "metadata": {},
   "outputs": [],
   "source": [
    "import logging as lg\n",
    "lg.basicConfig(filename='test3.log', level=lg.INFO, format = '%(asctime)s %(message)s')"
   ]
  },
  {
   "cell_type": "code",
   "execution_count": 24,
   "metadata": {},
   "outputs": [],
   "source": [
    "def add(*args):\n",
    "    lg.info('someone has add : '+str(args))\n",
    "    lg.info('the sum is ' + str(sum(args)))\n",
    "    return sum(args)"
   ]
  },
  {
   "cell_type": "code",
   "execution_count": 25,
   "metadata": {},
   "outputs": [
    {
     "data": {
      "text/plain": [
       "25"
      ]
     },
     "execution_count": 25,
     "metadata": {},
     "output_type": "execute_result"
    }
   ],
   "source": [
    "add(5,7,5,2,6)"
   ]
  },
  {
   "cell_type": "code",
   "execution_count": 26,
   "metadata": {},
   "outputs": [
    {
     "data": {
      "text/plain": [
       "18"
      ]
     },
     "execution_count": 26,
     "metadata": {},
     "output_type": "execute_result"
    }
   ],
   "source": [
    "add(3,4,6,1,4)"
   ]
  },
  {
   "cell_type": "code",
   "execution_count": 28,
   "metadata": {},
   "outputs": [
    {
     "data": {
      "text/plain": [
       "'2021-06-15 16:16:50,962 someone has add(5, 7, 5, 2, 6)\\n2021-06-15 16:16:50,963 you have to learn a lot\\n2021-06-15 16:17:00,747 someone has add(3, 4, 6, 1, 4)\\n2021-06-15 16:17:00,747 you have to learn a lot\\n2021-06-15 16:19:43,573 someone has add : (5, 7, 5, 2, 6)\\n2021-06-15 16:19:43,573 the sum is 25\\n2021-06-15 16:19:44,073 someone has add : (3, 4, 6, 1, 4)\\n2021-06-15 16:19:44,073 the sum is 18\\n'"
      ]
     },
     "execution_count": 28,
     "metadata": {},
     "output_type": "execute_result"
    }
   ],
   "source": [
    "f = open('test3.log', 'r')\n",
    "f.read()"
   ]
  },
  {
   "cell_type": "code",
   "execution_count": 35,
   "metadata": {},
   "outputs": [
    {
     "name": "stdout",
     "output_type": "stream",
     "text": [
      "4 2 5 25 5\n"
     ]
    },
    {
     "data": {
      "text/plain": [
       "[4, 2, 5, 25, 5]"
      ]
     },
     "execution_count": 35,
     "metadata": {},
     "output_type": "execute_result"
    }
   ],
   "source": [
    "list(map(int, input().split()))"
   ]
  },
  {
   "cell_type": "code",
   "execution_count": 4,
   "metadata": {},
   "outputs": [],
   "source": [
    "import logging as lg\n",
    "lg.basicConfig(filename='test7.log', level=lg.DEBUG, format = '%(asctime)s %(name)s %(levelname)s %(message)s')"
   ]
  },
  {
   "cell_type": "code",
   "execution_count": 5,
   "metadata": {},
   "outputs": [],
   "source": [
    "console_log = lg.StreamHandler()\n",
    "console_log.setLevel(lg.DEBUG)"
   ]
  },
  {
   "cell_type": "code",
   "execution_count": 6,
   "metadata": {},
   "outputs": [],
   "source": [
    "format = lg.Formatter('%(asctime)s %(name)s %(levelname)s %(message)s')"
   ]
  },
  {
   "cell_type": "code",
   "execution_count": 7,
   "metadata": {},
   "outputs": [],
   "source": [
    "console_log.setFormatter(format)"
   ]
  },
  {
   "cell_type": "code",
   "execution_count": 8,
   "metadata": {},
   "outputs": [],
   "source": [
    "lg.getLogger().addHandler(console_log)"
   ]
  },
  {
   "cell_type": "code",
   "execution_count": 9,
   "metadata": {},
   "outputs": [
    {
     "name": "stderr",
     "output_type": "stream",
     "text": [
      "2021-06-16 11:45:18,924 root INFO this is my first test code for log\n"
     ]
    }
   ],
   "source": [
    "lg.info('this is my first test code for log')"
   ]
  },
  {
   "cell_type": "code",
   "execution_count": 10,
   "metadata": {},
   "outputs": [],
   "source": [
    "logger1 = lg.getLogger('user1')\n",
    "logger2 = lg.getLogger('user2')\n",
    "logger3 = lg.getLogger('user3')\n",
    "logger4 = lg.getLogger('user4')"
   ]
  },
  {
   "cell_type": "code",
   "execution_count": 11,
   "metadata": {},
   "outputs": [
    {
     "name": "stderr",
     "output_type": "stream",
     "text": [
      "2021-06-16 11:45:23,096 user1 INFO this is info for logger one\n",
      "2021-06-16 11:45:23,097 user2 DEBUG this is debug for logger two\n",
      "2021-06-16 11:45:23,099 user2 INFO this is info for logger two\n",
      "2021-06-16 11:45:23,100 user3 DEBUG this is debug for logger two\n",
      "2021-06-16 11:45:23,102 user4 INFO this is info for logger two\n"
     ]
    }
   ],
   "source": [
    "logger1.info('this is info for logger one')\n",
    "logger2.debug('this is debug for logger two')\n",
    "logger2.info('this is info for logger two')\n",
    "logger3.debug('this is debug for logger two')\n",
    "logger4.info('this is info for logger two')"
   ]
  },
  {
   "cell_type": "markdown",
   "metadata": {},
   "source": [
    "# Debugging"
   ]
  },
  {
   "cell_type": "code",
   "execution_count": 13,
   "metadata": {},
   "outputs": [
    {
     "name": "stdout",
     "output_type": "stream",
     "text": [
      "Collecting ipdb"
     ]
    },
    {
     "name": "stderr",
     "output_type": "stream",
     "text": [
      "WARNING: You are using pip version 20.3.1; however, version 21.1.2 is available.\n",
      "You should consider upgrading via the 'c:\\users\\windows\\appdata\\local\\programs\\python\\python38\\python.exe -m pip install --upgrade pip' command.\n"
     ]
    },
    {
     "name": "stdout",
     "output_type": "stream",
     "text": [
      "\n",
      "  Downloading ipdb-0.13.9.tar.gz (16 kB)\n",
      "Requirement already satisfied: setuptools in c:\\users\\windows\\appdata\\local\\programs\\python\\python38\\lib\\site-packages (from ipdb) (49.2.1)\n",
      "Requirement already satisfied: ipython>=7.17.0 in c:\\users\\windows\\appdata\\local\\programs\\python\\python38\\lib\\site-packages (from ipdb) (7.19.0)\n",
      "Requirement already satisfied: decorator in c:\\users\\windows\\appdata\\local\\programs\\python\\python38\\lib\\site-packages (from ipdb) (4.4.2)\n",
      "Requirement already satisfied: setuptools in c:\\users\\windows\\appdata\\local\\programs\\python\\python38\\lib\\site-packages (from ipdb) (49.2.1)\n",
      "Requirement already satisfied: decorator in c:\\users\\windows\\appdata\\local\\programs\\python\\python38\\lib\\site-packages (from ipdb) (4.4.2)\n",
      "Requirement already satisfied: jedi>=0.10 in c:\\users\\windows\\appdata\\local\\programs\\python\\python38\\lib\\site-packages (from ipython>=7.17.0->ipdb) (0.17.2)\n",
      "Requirement already satisfied: prompt-toolkit!=3.0.0,!=3.0.1,<3.1.0,>=2.0.0 in c:\\users\\windows\\appdata\\local\\programs\\python\\python38\\lib\\site-packages (from ipython>=7.17.0->ipdb) (3.0.8)\n",
      "Requirement already satisfied: colorama in c:\\users\\windows\\appdata\\local\\programs\\python\\python38\\lib\\site-packages (from ipython>=7.17.0->ipdb) (0.4.4)\n",
      "Requirement already satisfied: pickleshare in c:\\users\\windows\\appdata\\local\\programs\\python\\python38\\lib\\site-packages (from ipython>=7.17.0->ipdb) (0.7.5)\n",
      "Requirement already satisfied: backcall in c:\\users\\windows\\appdata\\local\\programs\\python\\python38\\lib\\site-packages (from ipython>=7.17.0->ipdb) (0.2.0)\n",
      "Requirement already satisfied: pygments in c:\\users\\windows\\appdata\\local\\programs\\python\\python38\\lib\\site-packages (from ipython>=7.17.0->ipdb) (2.7.3)\n",
      "Requirement already satisfied: traitlets>=4.2 in c:\\users\\windows\\appdata\\local\\programs\\python\\python38\\lib\\site-packages (from ipython>=7.17.0->ipdb) (5.0.5)\n",
      "Requirement already satisfied: parso<0.8.0,>=0.7.0 in c:\\users\\windows\\appdata\\local\\programs\\python\\python38\\lib\\site-packages (from jedi>=0.10->ipython>=7.17.0->ipdb) (0.7.1)\n",
      "Requirement already satisfied: wcwidth in c:\\users\\windows\\appdata\\local\\programs\\python\\python38\\lib\\site-packages (from prompt-toolkit!=3.0.0,!=3.0.1,<3.1.0,>=2.0.0->ipython>=7.17.0->ipdb) (0.2.5)\n",
      "Collecting toml>=0.10.2\n",
      "  Downloading toml-0.10.2-py2.py3-none-any.whl (16 kB)\n",
      "Requirement already satisfied: ipython-genutils in c:\\users\\windows\\appdata\\local\\programs\\python\\python38\\lib\\site-packages (from traitlets>=4.2->ipython>=7.17.0->ipdb) (0.2.0)\n",
      "Building wheels for collected packages: ipdb\n",
      "  Building wheel for ipdb (setup.py): started\n",
      "  Building wheel for ipdb (setup.py): finished with status 'done'\n",
      "  Created wheel for ipdb: filename=ipdb-0.13.9-py3-none-any.whl size=11618 sha256=5f4b44feec4cc22f9aa3193957c0abbda8a2e0e74a3ebaf569a1c3c15cb090e6\n",
      "  Stored in directory: c:\\users\\windows\\appdata\\local\\pip\\cache\\wheels\\d8\\51\\8c\\3dceedacfd0f743f3736b3840d08b6746b6259deea98207ba4\n",
      "Successfully built ipdb\n",
      "Installing collected packages: toml, ipdb\n",
      "Successfully installed ipdb-0.13.9 toml-0.10.2\n"
     ]
    }
   ],
   "source": [
    "!pip install ipdb"
   ]
  },
  {
   "cell_type": "code",
   "execution_count": 12,
   "metadata": {
    "scrolled": false
   },
   "outputs": [
    {
     "ename": "ModuleNotFoundError",
     "evalue": "No module named 'ipdb'",
     "output_type": "error",
     "traceback": [
      "\u001b[1;31m---------------------------------------------------------------------------\u001b[0m",
      "\u001b[1;31mModuleNotFoundError\u001b[0m                       Traceback (most recent call last)",
      "\u001b[1;32m<ipython-input-12-5aecdc9391ac>\u001b[0m in \u001b[0;36m<module>\u001b[1;34m\u001b[0m\n\u001b[1;32m----> 1\u001b[1;33m \u001b[1;32mimport\u001b[0m \u001b[0mipdb\u001b[0m\u001b[1;33m\u001b[0m\u001b[1;33m\u001b[0m\u001b[0m\n\u001b[0m",
      "\u001b[1;31mModuleNotFoundError\u001b[0m: No module named 'ipdb'"
     ]
    }
   ],
   "source": [
    "import ipdb"
   ]
  },
  {
   "cell_type": "code",
   "execution_count": null,
   "metadata": {},
   "outputs": [],
   "source": []
  }
 ],
 "metadata": {
  "kernelspec": {
   "display_name": "Python 3",
   "language": "python",
   "name": "python3"
  },
  "language_info": {
   "codemirror_mode": {
    "name": "ipython",
    "version": 3
   },
   "file_extension": ".py",
   "mimetype": "text/x-python",
   "name": "python",
   "nbconvert_exporter": "python",
   "pygments_lexer": "ipython3",
   "version": "3.8.6"
  }
 },
 "nbformat": 4,
 "nbformat_minor": 4
}
