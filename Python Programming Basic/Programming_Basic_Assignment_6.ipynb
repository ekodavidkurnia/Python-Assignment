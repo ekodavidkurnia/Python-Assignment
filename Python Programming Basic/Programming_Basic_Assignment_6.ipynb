{
  "nbformat": 4,
  "nbformat_minor": 0,
  "metadata": {
    "colab": {
      "name": "Programming Basic Assignment_6.ipynb",
      "provenance": []
    },
    "kernelspec": {
      "name": "python3",
      "display_name": "Python 3"
    },
    "language_info": {
      "name": "python"
    }
  },
  "cells": [
    {
      "cell_type": "markdown",
      "metadata": {
        "id": "JImkVK3uWtRG"
      },
      "source": [
        "# Programming Basic Assignment_6"
      ]
    },
    {
      "cell_type": "markdown",
      "metadata": {
        "id": "bZGNsufjCNyB"
      },
      "source": [
        "__1. Write a Python Program to Display Fibonacci Sequence Using Recursion?__"
      ]
    },
    {
      "cell_type": "code",
      "metadata": {
        "colab": {
          "base_uri": "https://localhost:8080/"
        },
        "id": "WtoHIPdADhak",
        "outputId": "c9f5e014-87ca-41c3-f910-2e39dcfa9a21"
      },
      "source": [
        "def RFibo(n):\n",
        "   if n <= 1:\n",
        "       return n\n",
        "   else:\n",
        "       return(RFibo(n-1) + RFibo(n-2))\n",
        "\n",
        "nterms = 10\n",
        "if nterms <= 0:\n",
        "   print(\"Plese enter a positive integer\")\n",
        "else:\n",
        "   print(\"Fibonacci sequence:\")\n",
        "   for i in range(nterms):\n",
        "       print(RFibo(i))"
      ],
      "execution_count": 2,
      "outputs": [
        {
          "output_type": "stream",
          "text": [
            "Fibonacci sequence:\n",
            "0\n",
            "1\n",
            "1\n",
            "2\n",
            "3\n",
            "5\n",
            "8\n",
            "13\n",
            "21\n",
            "34\n"
          ],
          "name": "stdout"
        }
      ]
    },
    {
      "cell_type": "markdown",
      "metadata": {
        "id": "JgerTRBlDNaQ"
      },
      "source": [
        "__2. Write a Python Program to Find Factorial of Number Using Recursion?__"
      ]
    },
    {
      "cell_type": "code",
      "metadata": {
        "colab": {
          "base_uri": "https://localhost:8080/"
        },
        "id": "LR7_8yDZEODW",
        "outputId": "0df5c891-69b1-4ed5-d41a-41a41bea21fc"
      },
      "source": [
        "def RFactor(n):\n",
        "   if n == 1:\n",
        "       return n\n",
        "   else:\n",
        "       return n*RFactor(n-1)\n",
        "\n",
        "num = 4\n",
        "if num < 0:\n",
        "   print(\"Sorry, factorial does not exist for negative numbers\")\n",
        "elif num == 0:\n",
        "   print(\"The factorial of 0 is 1\")\n",
        "else:\n",
        "   print(\"The factorial of\", num, \"is\", RFactor(num))"
      ],
      "execution_count": 6,
      "outputs": [
        {
          "output_type": "stream",
          "text": [
            "The factorial of 4 is 24\n"
          ],
          "name": "stdout"
        }
      ]
    },
    {
      "cell_type": "markdown",
      "metadata": {
        "id": "nLiIgUrKDQiP"
      },
      "source": [
        "__3. Write a Python Program to calculate your Body Mass Index?__"
      ]
    },
    {
      "cell_type": "code",
      "metadata": {
        "colab": {
          "base_uri": "https://localhost:8080/"
        },
        "id": "VU33r9SFFHO2",
        "outputId": "c0f9d635-0bb4-418e-ecbf-2973643b9890"
      },
      "source": [
        "height  = float(input(\"Enter your height in Meters: \"))\n",
        "weight  = float(input(\"Enter your weight in Kg: \"))\n",
        "\n",
        "def BMI(height, weight):\n",
        "    bmi = weight/(height**2)\n",
        "    return bmi\n",
        "\n",
        "bmi = BMI(height, weight)\n",
        "print(\"The BMI is {}, you are \".format(bmi), end='')\n",
        "\n",
        "if (bmi < 18.5):\n",
        "    print(\"underweight\")\n",
        "  \n",
        "elif ( bmi >= 18.5 and bmi < 24.9):\n",
        "    print(\"Healthy\")\n",
        "  \n",
        "elif ( bmi >= 24.9 and bmi < 30):\n",
        "    print(\"overweight\")\n",
        "  \n",
        "elif ( bmi >=30):\n",
        "    print(\"Suffering from Obesity\")\n"
      ],
      "execution_count": 10,
      "outputs": [
        {
          "output_type": "stream",
          "text": [
            "Enter your height in Meters: 1.63\n",
            "Enter your weight in Kg: 55\n",
            "The BMI is 20.70081674131507, you are Healthy\n"
          ],
          "name": "stdout"
        }
      ]
    },
    {
      "cell_type": "markdown",
      "metadata": {
        "id": "oSuHXJmLDVtO"
      },
      "source": [
        "__4. Write a Python Program to calculate the natural logarithm of any number?__"
      ]
    },
    {
      "cell_type": "code",
      "metadata": {
        "colab": {
          "base_uri": "https://localhost:8080/"
        },
        "id": "6qxjQH87JW5j",
        "outputId": "700913ab-8e23-45be-8633-7be49507a55b"
      },
      "source": [
        "import math\n",
        "num  = float(input(\"Enter any number: \"))\n",
        "\n",
        "def Nlog(a):\n",
        "  return math.log(a)\n",
        "\n",
        "natlog = Nlog(num)\n",
        "print (\"Natural logarithm of {} is : {}\".format(num, natlog))"
      ],
      "execution_count": 15,
      "outputs": [
        {
          "output_type": "stream",
          "text": [
            "Enter any number: 4\n",
            "Natural logarithm of 4.0 is : 1.3862943611198906\n"
          ],
          "name": "stdout"
        }
      ]
    },
    {
      "cell_type": "markdown",
      "metadata": {
        "id": "NflMmEJlDZCr"
      },
      "source": [
        "__5. Write a Python Program for cube sum of first n natural numbers?__"
      ]
    },
    {
      "cell_type": "code",
      "metadata": {
        "id": "GicCGjmBWrCH",
        "colab": {
          "base_uri": "https://localhost:8080/"
        },
        "outputId": "3f4fda56-b36b-4bde-97e0-d95ee25812a7"
      },
      "source": [
        "num  = int(input(\"Enter any number: \"))\n",
        "def sumOfNnum(n):\n",
        "    sum = 0\n",
        "    for i in range(1, n+1):\n",
        "        sum +=i*i*i\n",
        "    return sum\n",
        "\n",
        "sum = sumOfNnum(num)\n",
        "print (\"Cube sum of first {} natural numbers is : {}\".format(num, sum))"
      ],
      "execution_count": 18,
      "outputs": [
        {
          "output_type": "stream",
          "text": [
            "Enter any number: 7\n",
            "Cube sum of first 7 natural numbers is : 784\n"
          ],
          "name": "stdout"
        }
      ]
    }
  ]
}