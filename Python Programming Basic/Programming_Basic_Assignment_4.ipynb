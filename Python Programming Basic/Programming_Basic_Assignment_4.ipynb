{
  "nbformat": 4,
  "nbformat_minor": 0,
  "metadata": {
    "colab": {
      "name": "Programming Basic Assignment_4.ipynb",
      "provenance": [],
      "collapsed_sections": []
    },
    "kernelspec": {
      "name": "python3",
      "display_name": "Python 3"
    },
    "language_info": {
      "name": "python"
    }
  },
  "cells": [
    {
      "cell_type": "markdown",
      "metadata": {
        "id": "9ZqAZ0KZXTK5"
      },
      "source": [
        "# Programming Basic Assignment_3"
      ]
    },
    {
      "cell_type": "markdown",
      "metadata": {
        "id": "8m4RevzLXZz0"
      },
      "source": [
        "__1. Write a Python Program to Find the Factorial of a Number?__"
      ]
    },
    {
      "cell_type": "code",
      "metadata": {
        "colab": {
          "base_uri": "https://localhost:8080/"
        },
        "id": "2MkCZOcQX3tT",
        "outputId": "b136f012-96f2-46bb-94d7-e1e5f1ab60ae"
      },
      "source": [
        "def FactNumb(num):\n",
        "  l = []\n",
        "  for i in range(1, num+1):\n",
        "    if num%i == 0:\n",
        "      l.append(i)\n",
        "  return l\n",
        "\n",
        "FactNumb(12)"
      ],
      "execution_count": 11,
      "outputs": [
        {
          "output_type": "execute_result",
          "data": {
            "text/plain": [
              "[1, 2, 3, 4, 6, 12]"
            ]
          },
          "metadata": {
            "tags": []
          },
          "execution_count": 11
        }
      ]
    },
    {
      "cell_type": "markdown",
      "metadata": {
        "id": "cCe9EmMDXbpc"
      },
      "source": [
        "__2. Write a Python Program to Display the multiplication Table?__"
      ]
    },
    {
      "cell_type": "code",
      "metadata": {
        "colab": {
          "base_uri": "https://localhost:8080/"
        },
        "id": "zJKV4TzAZFZH",
        "outputId": "7f18ccae-a0d8-48f1-aae2-ee83e1db176d"
      },
      "source": [
        "def mTable(num):\n",
        "  for i in range(1, 11):\n",
        "    print('{0} x {1} = {2}'.format(num, i, num*i))\n",
        "\n",
        "mTable(10)"
      ],
      "execution_count": 12,
      "outputs": [
        {
          "output_type": "stream",
          "text": [
            "10 x 1 = 10\n",
            "10 x 2 = 20\n",
            "10 x 3 = 30\n",
            "10 x 4 = 40\n",
            "10 x 5 = 50\n",
            "10 x 6 = 60\n",
            "10 x 7 = 70\n",
            "10 x 8 = 80\n",
            "10 x 9 = 90\n",
            "10 x 10 = 100\n"
          ],
          "name": "stdout"
        }
      ]
    },
    {
      "cell_type": "markdown",
      "metadata": {
        "id": "kyW6upB3XfDE"
      },
      "source": [
        "__3. Write a Python Program to Print the Fibonacci sequence?__"
      ]
    },
    {
      "cell_type": "code",
      "metadata": {
        "colab": {
          "base_uri": "https://localhost:8080/"
        },
        "id": "FERpTtEYbCKW",
        "outputId": "4fafae4f-931e-47be-9b7b-5f86be1c451f"
      },
      "source": [
        "n = int(input(\"How many terms?\"))\n",
        "\n",
        "n1, n2 = 0, 1\n",
        "terms = 0\n",
        "\n",
        "if n <= 0:\n",
        "  print('please try using positive number')\n",
        "else:\n",
        "  print('Fibonacci sequence')\n",
        "  print('------------------')\n",
        "  while terms < n :\n",
        "    print(n1)\n",
        "    n3 = n1 + n2\n",
        "    n1, n2 = n2, n3\n",
        "    terms +=1"
      ],
      "execution_count": 13,
      "outputs": [
        {
          "output_type": "stream",
          "text": [
            "How many terms?15\n",
            "Fibonacci sequence\n",
            "------------------\n",
            "0\n",
            "1\n",
            "1\n",
            "2\n",
            "3\n",
            "5\n",
            "8\n",
            "13\n",
            "21\n",
            "34\n",
            "55\n",
            "89\n",
            "144\n",
            "233\n",
            "377\n"
          ],
          "name": "stdout"
        }
      ]
    },
    {
      "cell_type": "markdown",
      "metadata": {
        "id": "qirUCRq1XkMi"
      },
      "source": [
        "__4. Write a Python Program to Check Armstrong Number?__"
      ]
    },
    {
      "cell_type": "code",
      "metadata": {
        "colab": {
          "base_uri": "https://localhost:8080/"
        },
        "id": "YBSgzbkDgp5u",
        "outputId": "d75fdb98-2fa6-469e-d3b4-520974504e0c"
      },
      "source": [
        "def ArmstrongCheck(num):\n",
        "  temp = num\n",
        "  sum = 0\n",
        "  while temp > 0:\n",
        "    digit = temp % 10\n",
        "    sum += digit ** 3\n",
        "    temp //= 10\n",
        "\n",
        "  if num == sum:\n",
        "    return str(num) + ' is Armstrong number'\n",
        "  else:\n",
        "    return str(num) + ' is not Armstrong number'\n",
        "\n",
        "print(ArmstrongCheck(153))\n",
        "print(ArmstrongCheck(524))"
      ],
      "execution_count": 6,
      "outputs": [
        {
          "output_type": "stream",
          "text": [
            "153 is Armstrong number\n",
            "524 is not Armstrong number\n"
          ],
          "name": "stdout"
        }
      ]
    },
    {
      "cell_type": "markdown",
      "metadata": {
        "id": "YiSRew-XXpXV"
      },
      "source": [
        "__5. Write a Python Program to Find Armstrong Number in an Interval?__"
      ]
    },
    {
      "cell_type": "code",
      "metadata": {
        "colab": {
          "base_uri": "https://localhost:8080/"
        },
        "id": "3YDStYQv8NpL",
        "outputId": "b615172a-9e11-4a18-d0a7-d6e054dde371"
      },
      "source": [
        "for i in range(1000):\n",
        "  if ArmstrongCheck(i) == str(i) + ' is Armstrong number' :\n",
        "    print(i)"
      ],
      "execution_count": 8,
      "outputs": [
        {
          "output_type": "stream",
          "text": [
            "0\n",
            "1\n",
            "153\n",
            "370\n",
            "371\n",
            "407\n"
          ],
          "name": "stdout"
        }
      ]
    },
    {
      "cell_type": "markdown",
      "metadata": {
        "id": "f8nI1uE2XrnF"
      },
      "source": [
        "__6. Write a Python Program to Find the Sum of Natural Numbers?__"
      ]
    },
    {
      "cell_type": "code",
      "metadata": {
        "colab": {
          "base_uri": "https://localhost:8080/"
        },
        "id": "lw7YaKxAWQPz",
        "outputId": "c6192d03-b74a-4e77-8a98-17a56e4d26b7"
      },
      "source": [
        "n = int(input('Enter positive number : '))\n",
        "\n",
        "if n < 0 :\n",
        "  print('please enter positive number')\n",
        "else :\n",
        "  sum = 0\n",
        "  while n > 0 :\n",
        "    sum += n\n",
        "    n -= 1\n",
        "\n",
        "print('sum is', sum)"
      ],
      "execution_count": 10,
      "outputs": [
        {
          "output_type": "stream",
          "text": [
            "Enter positive number : 500\n",
            "sum is 125250\n"
          ],
          "name": "stdout"
        }
      ]
    }
  ]
}