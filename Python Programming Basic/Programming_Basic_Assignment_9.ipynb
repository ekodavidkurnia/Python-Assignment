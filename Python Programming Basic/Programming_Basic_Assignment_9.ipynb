{
  "nbformat": 4,
  "nbformat_minor": 0,
  "metadata": {
    "colab": {
      "name": "Programming Basic Assignment_9.ipynb",
      "provenance": []
    },
    "kernelspec": {
      "name": "python3",
      "display_name": "Python 3"
    },
    "language_info": {
      "name": "python"
    }
  },
  "cells": [
    {
      "cell_type": "markdown",
      "metadata": {
        "id": "kFJvKLBHmCpr"
      },
      "source": [
        "# Programming Basic Assignment_9"
      ]
    },
    {
      "cell_type": "markdown",
      "metadata": {
        "id": "6V5a5n3Wl47z"
      },
      "source": [
        "__1. Write a Python program to check if the given number is a Disarium Number?__"
      ]
    },
    {
      "cell_type": "code",
      "metadata": {
        "colab": {
          "base_uri": "https://localhost:8080/",
          "height": 36
        },
        "id": "l6JnjGtKmY_L",
        "outputId": "a9e03fef-3cbc-4f59-c142-dcc7a2f2f187"
      },
      "source": [
        "def check(n) :\n",
        "    count_digits = len(str(n))\n",
        "    sum = 0 \n",
        "    x = n\n",
        "    while (x>0) :\n",
        "        r = x % 10\n",
        "        sum += r**count_digits\n",
        "        count_digits = count_digits - 1\n",
        "        x = x//10\n",
        "  \n",
        "    if sum == n :\n",
        "        return 'number is Disarium'\n",
        "    else :\n",
        "        return 'number not Disarium'\n",
        "\n",
        "check(135)"
      ],
      "execution_count": 11,
      "outputs": [
        {
          "output_type": "execute_result",
          "data": {
            "application/vnd.google.colaboratory.intrinsic+json": {
              "type": "string"
            },
            "text/plain": [
              "'number is Disarium'"
            ]
          },
          "metadata": {
            "tags": []
          },
          "execution_count": 11
        }
      ]
    },
    {
      "cell_type": "markdown",
      "metadata": {
        "id": "yEz8OdQbmG0V"
      },
      "source": [
        "__2. Write a Python program to print all disarium numbers between 1 to 100?__"
      ]
    },
    {
      "cell_type": "code",
      "metadata": {
        "id": "vNrEJ6u7xv2L",
        "outputId": "8d0fdeed-743c-4e0b-c607-02b461e43d3c",
        "colab": {
          "base_uri": "https://localhost:8080/"
        }
      },
      "source": [
        "for i in range(1, 101):\n",
        "  if check(i)== 'number is Disarium':\n",
        "    print(i)"
      ],
      "execution_count": 12,
      "outputs": [
        {
          "output_type": "stream",
          "text": [
            "1\n",
            "2\n",
            "3\n",
            "4\n",
            "5\n",
            "6\n",
            "7\n",
            "8\n",
            "9\n",
            "89\n"
          ],
          "name": "stdout"
        }
      ]
    },
    {
      "cell_type": "markdown",
      "metadata": {
        "id": "Jn_xs5ngmKFa"
      },
      "source": [
        "__3. Write a Python program to check if the given number is Happy Number?__"
      ]
    },
    {
      "cell_type": "code",
      "metadata": {
        "id": "rWXmImKxyL4z",
        "outputId": "5c5c6a59-6b5b-42db-ad91-e7fa0c6b4c27",
        "colab": {
          "base_uri": "https://localhost:8080/",
          "height": 36
        }
      },
      "source": [
        "def happy_numbers(n):\n",
        "    past = set()\t\t\t\n",
        "    while n != 1:\n",
        "        n = sum(int(i)**2 for i in str(n))\n",
        "        if n in past:\n",
        "            return 'number not Happy Number'\n",
        "        past.add(n)\n",
        "    return 'number is Happy Number'\n",
        "\n",
        "happy_numbers(19)"
      ],
      "execution_count": 15,
      "outputs": [
        {
          "output_type": "execute_result",
          "data": {
            "application/vnd.google.colaboratory.intrinsic+json": {
              "type": "string"
            },
            "text/plain": [
              "'number is Happy Number'"
            ]
          },
          "metadata": {
            "tags": []
          },
          "execution_count": 15
        }
      ]
    },
    {
      "cell_type": "markdown",
      "metadata": {
        "id": "Zj6-pzA7mOqV"
      },
      "source": [
        "__4. Write a Python program to print all happy numbers between 1 and 100?__"
      ]
    },
    {
      "cell_type": "code",
      "metadata": {
        "id": "o7j5KmLt3tWb",
        "outputId": "19ce62a7-a4e7-4dd7-9eac-689c52841345",
        "colab": {
          "base_uri": "https://localhost:8080/"
        }
      },
      "source": [
        "for i in range(1, 101):\n",
        "  if happy_numbers(i)== 'number is Happy Number':\n",
        "    print(i)"
      ],
      "execution_count": 16,
      "outputs": [
        {
          "output_type": "stream",
          "text": [
            "1\n",
            "7\n",
            "10\n",
            "13\n",
            "19\n",
            "23\n",
            "28\n",
            "31\n",
            "32\n",
            "44\n",
            "49\n",
            "68\n",
            "70\n",
            "79\n",
            "82\n",
            "86\n",
            "91\n",
            "94\n",
            "97\n",
            "100\n"
          ],
          "name": "stdout"
        }
      ]
    },
    {
      "cell_type": "markdown",
      "metadata": {
        "id": "Nggh6DXHmSe1"
      },
      "source": [
        "__5. Write a Python program to determine whether the given number is a Harshad Number?__"
      ]
    },
    {
      "cell_type": "code",
      "metadata": {
        "id": "6sF3l4Jp4wB4",
        "outputId": "4c985046-c9e5-44cd-f37d-a75da6198517",
        "colab": {
          "base_uri": "https://localhost:8080/",
          "height": 36
        }
      },
      "source": [
        "def checkHarshad(n):\n",
        "    st = str(n)\n",
        "    sum = 0\n",
        "    length = len(st)\n",
        "  \n",
        "    for i in st:\n",
        "        sum = sum + int(i)\n",
        "          \n",
        "    if (n % sum == 0):\n",
        "        return \"number is a Harshad Number\"\n",
        "    else:\n",
        "        return \"number not a Harshad Number\"\n",
        "  \n",
        "checkHarshad(18)"
      ],
      "execution_count": 17,
      "outputs": [
        {
          "output_type": "execute_result",
          "data": {
            "application/vnd.google.colaboratory.intrinsic+json": {
              "type": "string"
            },
            "text/plain": [
              "'number is a Harshad Number'"
            ]
          },
          "metadata": {
            "tags": []
          },
          "execution_count": 17
        }
      ]
    },
    {
      "cell_type": "markdown",
      "metadata": {
        "id": "FMor4lpBmVo4"
      },
      "source": [
        "__6. Write a Python program to print all pronic numbers between 1 and 100?__"
      ]
    },
    {
      "cell_type": "code",
      "metadata": {
        "colab": {
          "base_uri": "https://localhost:8080/"
        },
        "id": "5-uypq-4l4cu",
        "outputId": "5d9f8ff9-6074-4a5e-e80f-cfb8ebb36d3b"
      },
      "source": [
        "for i in range(1, 101):\n",
        "  if checkHarshad(i)== 'number is a Harshad Number':\n",
        "    print(i)"
      ],
      "execution_count": 18,
      "outputs": [
        {
          "output_type": "stream",
          "text": [
            "1\n",
            "2\n",
            "3\n",
            "4\n",
            "5\n",
            "6\n",
            "7\n",
            "8\n",
            "9\n",
            "10\n",
            "12\n",
            "18\n",
            "20\n",
            "21\n",
            "24\n",
            "27\n",
            "30\n",
            "36\n",
            "40\n",
            "42\n",
            "45\n",
            "48\n",
            "50\n",
            "54\n",
            "60\n",
            "63\n",
            "70\n",
            "72\n",
            "80\n",
            "81\n",
            "84\n",
            "90\n",
            "100\n"
          ],
          "name": "stdout"
        }
      ]
    }
  ]
}