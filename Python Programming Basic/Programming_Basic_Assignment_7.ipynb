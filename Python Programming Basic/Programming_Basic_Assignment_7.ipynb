{
  "nbformat": 4,
  "nbformat_minor": 0,
  "metadata": {
    "colab": {
      "name": "Programming Basic Assignment_7.ipynb",
      "provenance": []
    },
    "kernelspec": {
      "name": "python3",
      "display_name": "Python 3"
    },
    "language_info": {
      "name": "python"
    }
  },
  "cells": [
    {
      "cell_type": "markdown",
      "metadata": {
        "id": "hs0yxHy3PTYd"
      },
      "source": [
        "# Programming Basic Assignment_7"
      ]
    },
    {
      "cell_type": "markdown",
      "metadata": {
        "id": "tUjauzyePWYL"
      },
      "source": [
        "__1. Write a Python Program to find sum of array?__"
      ]
    },
    {
      "cell_type": "code",
      "metadata": {
        "colab": {
          "base_uri": "https://localhost:8080/"
        },
        "id": "jLdBxVawQyR8",
        "outputId": "846e03a7-0c7f-456c-afc6-52d250343cc7"
      },
      "source": [
        "arr = [12, 3, 4, 15]\n",
        "sum_arr = sum(arr)\n",
        "\n",
        "print ('Sum of the array is ', sum_arr)"
      ],
      "execution_count": 17,
      "outputs": [
        {
          "output_type": "stream",
          "text": [
            "Sum of the array is  34\n"
          ],
          "name": "stdout"
        }
      ]
    },
    {
      "cell_type": "markdown",
      "metadata": {
        "id": "frC_mDu0QiFC"
      },
      "source": [
        "__2. Write a Python Program to find largest element in an array?__"
      ]
    },
    {
      "cell_type": "code",
      "metadata": {
        "colab": {
          "base_uri": "https://localhost:8080/"
        },
        "id": "kNOrL7qNSIWy",
        "outputId": "19002bda-786f-4612-aebb-4e3d89188e55"
      },
      "source": [
        "largest = max(arr)\n",
        "\n",
        "print ('Largest of the array is ', largest)"
      ],
      "execution_count": 3,
      "outputs": [
        {
          "output_type": "stream",
          "text": [
            "Largest of the array is  15\n"
          ],
          "name": "stdout"
        }
      ]
    },
    {
      "cell_type": "markdown",
      "metadata": {
        "id": "6bK9ksI1Qn-J"
      },
      "source": [
        "__3. Write a Python Program for array rotation?__"
      ]
    },
    {
      "cell_type": "code",
      "metadata": {
        "colab": {
          "base_uri": "https://localhost:8080/"
        },
        "id": "nSa26-cCSZbT",
        "outputId": "793b058b-e2aa-4533-a176-4d80a04c3d1e"
      },
      "source": [
        "def RrotateArr(arr):\n",
        "  arr[:] = arr[len(arr)-1:len(arr)]+arr[0:len(arr)-1]\n",
        "  return arr\n",
        "print('rotated array is', RrotateArr(arr))"
      ],
      "execution_count": 18,
      "outputs": [
        {
          "output_type": "stream",
          "text": [
            "rotated array is [15, 12, 3, 4]\n"
          ],
          "name": "stdout"
        }
      ]
    },
    {
      "cell_type": "markdown",
      "metadata": {
        "id": "BQQzMSowQqCJ"
      },
      "source": [
        "__4. Write a Python Program to Split the array and add the first part to the end?__"
      ]
    },
    {
      "cell_type": "code",
      "metadata": {
        "colab": {
          "base_uri": "https://localhost:8080/"
        },
        "id": "aW2eX530Yv0H",
        "outputId": "2ff6f5f0-eb54-4cc9-b1db-17a6092deb33"
      },
      "source": [
        "def firstToEndArr(arr):\n",
        "  arr[:] = arr[1:len(arr)]+arr[0:1]\n",
        "  return arr\n",
        "print('first part to the end array is', firstToEndArr(arr))"
      ],
      "execution_count": 19,
      "outputs": [
        {
          "output_type": "stream",
          "text": [
            "first part to the end array is [12, 3, 4, 15]\n"
          ],
          "name": "stdout"
        }
      ]
    },
    {
      "cell_type": "markdown",
      "metadata": {
        "id": "2ZCmd4MkQuDL"
      },
      "source": [
        "__5. Write a Python Program to check if given array is Monotonic?__"
      ]
    },
    {
      "cell_type": "code",
      "metadata": {
        "colab": {
          "base_uri": "https://localhost:8080/"
        },
        "id": "B32DRRtAPQ95",
        "outputId": "995421ba-2c14-49f4-dbef-1eddb79f58a1"
      },
      "source": [
        "def isMonotonic(A):\n",
        "    return (all(A[i] <= A[i + 1] for i in range(len(A) - 1)) or\n",
        "            all(A[i] >= A[i + 1] for i in range(len(A) - 1)))\n",
        "print('is {} Monotonic? '.format(arr), isMonotonic(arr))"
      ],
      "execution_count": 20,
      "outputs": [
        {
          "output_type": "stream",
          "text": [
            "is [12, 3, 4, 15] Monotonic?  False\n"
          ],
          "name": "stdout"
        }
      ]
    }
  ]
}