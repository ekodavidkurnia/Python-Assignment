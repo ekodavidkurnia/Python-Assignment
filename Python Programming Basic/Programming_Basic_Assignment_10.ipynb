{
  "nbformat": 4,
  "nbformat_minor": 0,
  "metadata": {
    "colab": {
      "name": "Programming Basic Assignment_10.ipynb",
      "provenance": [],
      "collapsed_sections": []
    },
    "kernelspec": {
      "name": "python3",
      "display_name": "Python 3"
    },
    "language_info": {
      "name": "python"
    }
  },
  "cells": [
    {
      "cell_type": "markdown",
      "metadata": {
        "id": "Zoo5ngYBvwG-"
      },
      "source": [
        "# Programming Basic Assignment_10"
      ]
    },
    {
      "cell_type": "markdown",
      "metadata": {
        "id": "Ir3toHvIv0o7"
      },
      "source": [
        "__1. Write a Python program to find sum of elements in list?__"
      ]
    },
    {
      "cell_type": "code",
      "metadata": {
        "colab": {
          "base_uri": "https://localhost:8080/"
        },
        "id": "M7l-9GOdwhRJ",
        "outputId": "cbbf5694-27b8-4054-c0b5-3d3d1513d32e"
      },
      "source": [
        "lst = [5, 6, 27, 2, 4, 13, 8]\n",
        "sum(lst)"
      ],
      "execution_count": 8,
      "outputs": [
        {
          "output_type": "execute_result",
          "data": {
            "text/plain": [
              "65"
            ]
          },
          "metadata": {
            "tags": []
          },
          "execution_count": 8
        }
      ]
    },
    {
      "cell_type": "markdown",
      "metadata": {
        "id": "l_UmC73gv4-p"
      },
      "source": [
        "__2. Write a Python program to  Multiply all numbers in the list?__"
      ]
    },
    {
      "cell_type": "code",
      "metadata": {
        "colab": {
          "base_uri": "https://localhost:8080/"
        },
        "id": "jw8XTRkyxBLR",
        "outputId": "a03215a7-54d0-4451-c9a4-63741de6750b"
      },
      "source": [
        "def multplyList(myList):\n",
        "  result = 1\n",
        "  for i in myList:\n",
        "    result *= i\n",
        "  return result\n",
        "\n",
        "multplyList(lst)"
      ],
      "execution_count": 3,
      "outputs": [
        {
          "output_type": "execute_result",
          "data": {
            "text/plain": [
              "673920"
            ]
          },
          "metadata": {
            "tags": []
          },
          "execution_count": 3
        }
      ]
    },
    {
      "cell_type": "markdown",
      "metadata": {
        "id": "hNIpNPTGwBuc"
      },
      "source": [
        "__3. Write a Python program to find smallest number in a list?__"
      ]
    },
    {
      "cell_type": "code",
      "metadata": {
        "colab": {
          "base_uri": "https://localhost:8080/"
        },
        "id": "7mQ8x3dHx6Ic",
        "outputId": "6a40a89f-31b5-4b2a-b558-793776c26f4f"
      },
      "source": [
        "min(lst)"
      ],
      "execution_count": 4,
      "outputs": [
        {
          "output_type": "execute_result",
          "data": {
            "text/plain": [
              "2"
            ]
          },
          "metadata": {
            "tags": []
          },
          "execution_count": 4
        }
      ]
    },
    {
      "cell_type": "markdown",
      "metadata": {
        "id": "oAPB6b44wF3V"
      },
      "source": [
        "__4. Write a Python program to find largest number in a list?__"
      ]
    },
    {
      "cell_type": "code",
      "metadata": {
        "colab": {
          "base_uri": "https://localhost:8080/"
        },
        "id": "--OfHuxJyt2K",
        "outputId": "80c03a6d-1d4b-478c-f641-6b71f5f8641a"
      },
      "source": [
        "max(lst)"
      ],
      "execution_count": 5,
      "outputs": [
        {
          "output_type": "execute_result",
          "data": {
            "text/plain": [
              "27"
            ]
          },
          "metadata": {
            "tags": []
          },
          "execution_count": 5
        }
      ]
    },
    {
      "cell_type": "markdown",
      "metadata": {
        "id": "GKgnfQ97wIwY"
      },
      "source": [
        "__5. Write a Python program to find second largest number in a list?__"
      ]
    },
    {
      "cell_type": "code",
      "metadata": {
        "colab": {
          "base_uri": "https://localhost:8080/"
        },
        "id": "8MnKLrtd0cbq",
        "outputId": "df1cba31-b50b-406a-d69f-a5a05f1c7d25"
      },
      "source": [
        "lst"
      ],
      "execution_count": 10,
      "outputs": [
        {
          "output_type": "execute_result",
          "data": {
            "text/plain": [
              "[2, 4, 5, 6, 8, 13, 27]"
            ]
          },
          "metadata": {
            "tags": []
          },
          "execution_count": 10
        }
      ]
    },
    {
      "cell_type": "code",
      "metadata": {
        "colab": {
          "base_uri": "https://localhost:8080/"
        },
        "id": "GkRNGxGFyyOI",
        "outputId": "b57812c1-2fa4-4379-dd25-c824499f05d9"
      },
      "source": [
        "def secondLargest(myList):\n",
        "  myList.sort()\n",
        "  return myList[-2]\n",
        "\n",
        "secondLargest(lst)"
      ],
      "execution_count": 14,
      "outputs": [
        {
          "output_type": "execute_result",
          "data": {
            "text/plain": [
              "13"
            ]
          },
          "metadata": {
            "tags": []
          },
          "execution_count": 14
        }
      ]
    },
    {
      "cell_type": "markdown",
      "metadata": {
        "id": "zokQfx42wL8T"
      },
      "source": [
        "__6. Write a Python program to find N largest elements from a list?__"
      ]
    },
    {
      "cell_type": "code",
      "metadata": {
        "colab": {
          "base_uri": "https://localhost:8080/"
        },
        "id": "5caj2R3R04fi",
        "outputId": "b2b2351e-7d7a-42ed-8c86-901c0eaf273b"
      },
      "source": [
        "def NLargest(myList, n):\n",
        "  myList.sort()\n",
        "  return myList[-n:]\n",
        "\n",
        "NLargest(lst, 3)"
      ],
      "execution_count": 15,
      "outputs": [
        {
          "output_type": "execute_result",
          "data": {
            "text/plain": [
              "[8, 13, 27]"
            ]
          },
          "metadata": {
            "tags": []
          },
          "execution_count": 15
        }
      ]
    },
    {
      "cell_type": "markdown",
      "metadata": {
        "id": "WHYkFYNywPLk"
      },
      "source": [
        "__7. Write a Python program to print even numbers in a list?__"
      ]
    },
    {
      "cell_type": "code",
      "metadata": {
        "colab": {
          "base_uri": "https://localhost:8080/"
        },
        "id": "tI_SkZtq1uz_",
        "outputId": "7db99aa8-d538-43ef-b344-6280b0e84092"
      },
      "source": [
        "def evenList(myList):\n",
        "  evenList = []\n",
        "  for i in myList:\n",
        "    if i%2 == 0:\n",
        "      evenList.append(i)\n",
        "  return evenList\n",
        "\n",
        "evenList(lst)"
      ],
      "execution_count": 16,
      "outputs": [
        {
          "output_type": "execute_result",
          "data": {
            "text/plain": [
              "[2, 4, 6, 8]"
            ]
          },
          "metadata": {
            "tags": []
          },
          "execution_count": 16
        }
      ]
    },
    {
      "cell_type": "markdown",
      "metadata": {
        "id": "-1LOGriLwSzR"
      },
      "source": [
        "__8. Write a Python program to print odd numbers in a List?__"
      ]
    },
    {
      "cell_type": "code",
      "metadata": {
        "colab": {
          "base_uri": "https://localhost:8080/"
        },
        "id": "2XdNjhkz2Vwi",
        "outputId": "f2a28296-344a-4ad9-f9b7-60527b52da16"
      },
      "source": [
        "def oddList(myList):\n",
        "  oddList = []\n",
        "  for i in myList:\n",
        "    if i%2 != 0:\n",
        "      oddList.append(i)\n",
        "  return oddList\n",
        "\n",
        "oddList(lst)"
      ],
      "execution_count": 17,
      "outputs": [
        {
          "output_type": "execute_result",
          "data": {
            "text/plain": [
              "[5, 13, 27]"
            ]
          },
          "metadata": {
            "tags": []
          },
          "execution_count": 17
        }
      ]
    },
    {
      "cell_type": "markdown",
      "metadata": {
        "id": "7y5DJYEuwWEU"
      },
      "source": [
        "__9. Write a Python program to Remove empty List from List?__"
      ]
    },
    {
      "cell_type": "code",
      "metadata": {
        "colab": {
          "base_uri": "https://localhost:8080/"
        },
        "id": "s3bSMfZN2i-Q",
        "outputId": "10f6100e-2423-49aa-d29a-e054a8850839"
      },
      "source": [
        "lst1 = [7, 16, [], 3, [], [], 4]\n",
        "\n",
        "def removeEmpty(myList):\n",
        "  removed = []\n",
        "  for i in myList:\n",
        "    if i != []:\n",
        "      removed.append(i)\n",
        "  return removed\n",
        "\n",
        "removeEmpty(lst1)"
      ],
      "execution_count": 18,
      "outputs": [
        {
          "output_type": "execute_result",
          "data": {
            "text/plain": [
              "[7, 16, 3, 4]"
            ]
          },
          "metadata": {
            "tags": []
          },
          "execution_count": 18
        }
      ]
    },
    {
      "cell_type": "markdown",
      "metadata": {
        "id": "fO8xiBF3wZYA"
      },
      "source": [
        "__10. Write a Python program to Cloning or Copying a list?__"
      ]
    },
    {
      "cell_type": "code",
      "metadata": {
        "colab": {
          "base_uri": "https://localhost:8080/"
        },
        "id": "WADlf8tI3ms_",
        "outputId": "5da7695c-b4b7-4188-c213-34af06e189e4"
      },
      "source": [
        "lst2 = lst1[:]\n",
        "\n",
        "print('original list :', lst1)\n",
        "print('copied list :', lst2)"
      ],
      "execution_count": 20,
      "outputs": [
        {
          "output_type": "stream",
          "text": [
            "original list : [7, 16, [], 3, [], [], 4]\n",
            "copied list : [7, 16, [], 3, [], [], 4]\n"
          ],
          "name": "stdout"
        }
      ]
    },
    {
      "cell_type": "markdown",
      "metadata": {
        "id": "1EXNO87Vwcmw"
      },
      "source": [
        "__11. Write a Python program to Count occurrences of an element in a list?__"
      ]
    },
    {
      "cell_type": "code",
      "metadata": {
        "colab": {
          "base_uri": "https://localhost:8080/"
        },
        "id": "3GgA0wF34icD",
        "outputId": "46030941-6fea-4902-b22e-22decc196c41"
      },
      "source": [
        "def countX(myList, x):\n",
        "  return myList.count(x)\n",
        "\n",
        "countX(lst1, [])"
      ],
      "execution_count": 21,
      "outputs": [
        {
          "output_type": "execute_result",
          "data": {
            "text/plain": [
              "3"
            ]
          },
          "metadata": {
            "tags": []
          },
          "execution_count": 21
        }
      ]
    }
  ]
}