{
  "nbformat": 4,
  "nbformat_minor": 0,
  "metadata": {
    "colab": {
      "name": "Programming Basic Assignment_1.ipynb",
      "provenance": []
    },
    "kernelspec": {
      "name": "python3",
      "display_name": "Python 3"
    },
    "language_info": {
      "name": "python"
    }
  },
  "cells": [
    {
      "cell_type": "markdown",
      "metadata": {
        "id": "14cqaQO99dXO"
      },
      "source": [
        "# Programming Basic Assignment_1"
      ]
    },
    {
      "cell_type": "markdown",
      "metadata": {
        "id": "3jTHnzFm9mFJ"
      },
      "source": [
        "__1. Write a Python program to print \"Hello Python\"?__"
      ]
    },
    {
      "cell_type": "code",
      "metadata": {
        "colab": {
          "base_uri": "https://localhost:8080/"
        },
        "id": "35gS_Xqe-Il4",
        "outputId": "65a2f58a-8f12-4c44-99e6-9a16d01a4f77"
      },
      "source": [
        "print('Hello Python')"
      ],
      "execution_count": 2,
      "outputs": [
        {
          "output_type": "stream",
          "text": [
            "Hello Python\n"
          ],
          "name": "stdout"
        }
      ]
    },
    {
      "cell_type": "markdown",
      "metadata": {
        "id": "NPkUK3cb9sS5"
      },
      "source": [
        "__2. Write a Python program to do arithmetical operations addition and division.?__"
      ]
    },
    {
      "cell_type": "code",
      "metadata": {
        "colab": {
          "base_uri": "https://localhost:8080/"
        },
        "id": "wsoELQeA-OPF",
        "outputId": "c26b7700-49c5-48c5-9e42-10d44c4aa585"
      },
      "source": [
        "x = 5\n",
        "y = 7\n",
        "a = (x+y)/2\n",
        "print(a)"
      ],
      "execution_count": 4,
      "outputs": [
        {
          "output_type": "stream",
          "text": [
            "6.0\n"
          ],
          "name": "stdout"
        }
      ]
    },
    {
      "cell_type": "markdown",
      "metadata": {
        "id": "egpFYPIn9zc_"
      },
      "source": [
        "__3. Write a Python program to find the area of a triangle?__"
      ]
    },
    {
      "cell_type": "code",
      "metadata": {
        "colab": {
          "base_uri": "https://localhost:8080/"
        },
        "id": "uXPW6hn1-xtB",
        "outputId": "6b53c1c4-e7e1-4648-afd7-83f32f5666cc"
      },
      "source": [
        "def areaT(b,h):\n",
        "  return 0.5*b*h\n",
        "\n",
        "areaT(14,20)"
      ],
      "execution_count": 5,
      "outputs": [
        {
          "output_type": "execute_result",
          "data": {
            "text/plain": [
              "140.0"
            ]
          },
          "metadata": {
            "tags": []
          },
          "execution_count": 5
        }
      ]
    },
    {
      "cell_type": "markdown",
      "metadata": {
        "id": "Tlj2AD6A94Gr"
      },
      "source": [
        "__4. Write a Python program to swap two variables?__"
      ]
    },
    {
      "cell_type": "code",
      "metadata": {
        "colab": {
          "base_uri": "https://localhost:8080/"
        },
        "id": "hZfdpMM2_qN1",
        "outputId": "276c8fa8-ce6e-4eb9-e05b-7a857e4bded0"
      },
      "source": [
        "a = 5\n",
        "b = 7\n",
        "a, b = b, a\n",
        "print(a, b)"
      ],
      "execution_count": 6,
      "outputs": [
        {
          "output_type": "stream",
          "text": [
            "7 5\n"
          ],
          "name": "stdout"
        }
      ]
    },
    {
      "cell_type": "markdown",
      "metadata": {
        "id": "siBh9JDL9-o2"
      },
      "source": [
        "__5. Write a Python program to generate a random number?__"
      ]
    },
    {
      "cell_type": "code",
      "metadata": {
        "colab": {
          "base_uri": "https://localhost:8080/"
        },
        "id": "XSRmd8x9_4iE",
        "outputId": "a7521758-60e3-494d-c578-947b356d7b94"
      },
      "source": [
        "import random \n",
        "n = random.random() \n",
        "print(n)"
      ],
      "execution_count": 8,
      "outputs": [
        {
          "output_type": "stream",
          "text": [
            "0.868303317426064\n"
          ],
          "name": "stdout"
        }
      ]
    }
  ]
}