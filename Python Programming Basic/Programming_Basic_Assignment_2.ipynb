{
  "nbformat": 4,
  "nbformat_minor": 0,
  "metadata": {
    "colab": {
      "name": "Programming Basic Assignment_2.ipynb",
      "provenance": []
    },
    "kernelspec": {
      "name": "python3",
      "display_name": "Python 3"
    },
    "language_info": {
      "name": "python"
    }
  },
  "cells": [
    {
      "cell_type": "markdown",
      "metadata": {
        "id": "W2X_1ZAJEDEx"
      },
      "source": [
        "# Programming Basic Assignment_2"
      ]
    },
    {
      "cell_type": "markdown",
      "metadata": {
        "id": "CDjnwTxFEFMI"
      },
      "source": [
        "__1. Write a Python program to convert kilometers to miles?__"
      ]
    },
    {
      "cell_type": "code",
      "metadata": {
        "colab": {
          "base_uri": "https://localhost:8080/"
        },
        "id": "tEr5Ij94EhE_",
        "outputId": "01454b87-1770-421f-dfd7-59cfc71ce765"
      },
      "source": [
        "def km_to_Miles(a):\n",
        "  return 0.621371*a\n",
        "\n",
        "km_to_Miles(7)"
      ],
      "execution_count": 1,
      "outputs": [
        {
          "output_type": "execute_result",
          "data": {
            "text/plain": [
              "4.349597"
            ]
          },
          "metadata": {
            "tags": []
          },
          "execution_count": 1
        }
      ]
    },
    {
      "cell_type": "markdown",
      "metadata": {
        "id": "6zG100-XEOeP"
      },
      "source": [
        "__2. Write a Python program to convert Celsius to Fahrenheit?__"
      ]
    },
    {
      "cell_type": "code",
      "metadata": {
        "colab": {
          "base_uri": "https://localhost:8080/"
        },
        "id": "TGLzNZINFOSu",
        "outputId": "577d34d8-5614-4323-9fef-04552ead6564"
      },
      "source": [
        "def CtoF(a):\n",
        "  return ((9/5)*a) + 32\n",
        "\n",
        "CtoF(30)"
      ],
      "execution_count": 2,
      "outputs": [
        {
          "output_type": "execute_result",
          "data": {
            "text/plain": [
              "86.0"
            ]
          },
          "metadata": {
            "tags": []
          },
          "execution_count": 2
        }
      ]
    },
    {
      "cell_type": "markdown",
      "metadata": {
        "id": "9ycGSSNKER1o"
      },
      "source": [
        "__3. Write a Python program to display calendar?__"
      ]
    },
    {
      "cell_type": "code",
      "metadata": {
        "colab": {
          "base_uri": "https://localhost:8080/"
        },
        "id": "psUwEvRxF7CH",
        "outputId": "b14c9952-6c54-4f29-fca8-34d910f28625"
      },
      "source": [
        "import calendar\n",
        "\n",
        "yy = 2021\n",
        "mm = 4\n",
        "\n",
        "print(calendar.month(yy, mm))"
      ],
      "execution_count": 4,
      "outputs": [
        {
          "output_type": "stream",
          "text": [
            "     April 2021\n",
            "Mo Tu We Th Fr Sa Su\n",
            "          1  2  3  4\n",
            " 5  6  7  8  9 10 11\n",
            "12 13 14 15 16 17 18\n",
            "19 20 21 22 23 24 25\n",
            "26 27 28 29 30\n",
            "\n"
          ],
          "name": "stdout"
        }
      ]
    },
    {
      "cell_type": "markdown",
      "metadata": {
        "id": "97w7DpG0EZ7P"
      },
      "source": [
        "__4. Write a Python program to solve quadratic equation?__"
      ]
    },
    {
      "cell_type": "code",
      "metadata": {
        "colab": {
          "base_uri": "https://localhost:8080/"
        },
        "id": "a0rdGIHdGuEz",
        "outputId": "e3445fea-3ce3-4903-84e9-3bfcf92935d8"
      },
      "source": [
        "def qSolver(a):\n",
        "  return a**0.5\n",
        "\n",
        "qSolver(81)"
      ],
      "execution_count": 5,
      "outputs": [
        {
          "output_type": "execute_result",
          "data": {
            "text/plain": [
              "9.0"
            ]
          },
          "metadata": {
            "tags": []
          },
          "execution_count": 5
        }
      ]
    },
    {
      "cell_type": "markdown",
      "metadata": {
        "id": "ftxiI58jEcaH"
      },
      "source": [
        "__5. Write a Python program to swap two variables without temp variable?__"
      ]
    },
    {
      "cell_type": "code",
      "metadata": {
        "colab": {
          "base_uri": "https://localhost:8080/"
        },
        "id": "huby89eBEAZr",
        "outputId": "00e40b2f-84a5-4f3e-ba1d-3318325a95e1"
      },
      "source": [
        "x = 10\n",
        "y = 5\n",
        "x, y = y, x\n",
        "\n",
        "print(x, y)"
      ],
      "execution_count": 6,
      "outputs": [
        {
          "output_type": "stream",
          "text": [
            "5 10\n"
          ],
          "name": "stdout"
        }
      ]
    }
  ]
}