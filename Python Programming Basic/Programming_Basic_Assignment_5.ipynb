{
  "nbformat": 4,
  "nbformat_minor": 0,
  "metadata": {
    "colab": {
      "name": "Programming Basic Assignment_5.ipynb",
      "provenance": []
    },
    "kernelspec": {
      "name": "python3",
      "display_name": "Python 3"
    },
    "language_info": {
      "name": "python"
    }
  },
  "cells": [
    {
      "cell_type": "markdown",
      "metadata": {
        "id": "zQ0DOrNGIuw0"
      },
      "source": [
        "# Programming Basic Assignment_5"
      ]
    },
    {
      "cell_type": "markdown",
      "metadata": {
        "id": "kj0qCbK6Iwyh"
      },
      "source": [
        "__1. Write a Python Program to Find LCM?__"
      ]
    },
    {
      "cell_type": "code",
      "metadata": {
        "colab": {
          "base_uri": "https://localhost:8080/"
        },
        "id": "bs6HkckGK4X3",
        "outputId": "d176dd87-882a-4ebd-d1fd-e7f9e43c2f1f"
      },
      "source": [
        "def LCM(a,b):\n",
        "  if a > b :\n",
        "    larger = a\n",
        "  else :\n",
        "    larger = b\n",
        "\n",
        "  while(True):\n",
        "    if (larger % a == 0) and (larger % b == 0):\n",
        "      lcm = larger\n",
        "      break\n",
        "    larger += 1\n",
        "  return lcm\n",
        "\n",
        "LCM(24, 32)"
      ],
      "execution_count": 2,
      "outputs": [
        {
          "output_type": "execute_result",
          "data": {
            "text/plain": [
              "96"
            ]
          },
          "metadata": {
            "tags": []
          },
          "execution_count": 2
        }
      ]
    },
    {
      "cell_type": "markdown",
      "metadata": {
        "id": "fUxJiG5sI2xB"
      },
      "source": [
        "__2. Write a Python Program to Find HCF?__"
      ]
    },
    {
      "cell_type": "code",
      "metadata": {
        "colab": {
          "base_uri": "https://localhost:8080/"
        },
        "id": "Eu4_squ_MPdu",
        "outputId": "a6f1f42b-03ab-4502-bc36-a050020449ae"
      },
      "source": [
        "def HCF(a,b):\n",
        "  if a > b :\n",
        "    smaller = b\n",
        "  else :\n",
        "    smaller = a\n",
        "  \n",
        "  for i in range(1, smaller + 1):\n",
        "    if (a % i == 0) and (b % i == 0):\n",
        "      hcf = i\n",
        "  return hcf\n",
        "HCF(24, 32)"
      ],
      "execution_count": 11,
      "outputs": [
        {
          "output_type": "execute_result",
          "data": {
            "text/plain": [
              "8"
            ]
          },
          "metadata": {
            "tags": []
          },
          "execution_count": 11
        }
      ]
    },
    {
      "cell_type": "markdown",
      "metadata": {
        "id": "XFpVFT5RI5Zx"
      },
      "source": [
        "__3. Write a Python Program to Convert Decimal to Binary, Octal and Hexadecimal?__"
      ]
    },
    {
      "cell_type": "code",
      "metadata": {
        "colab": {
          "base_uri": "https://localhost:8080/"
        },
        "id": "hJxNDtLzQ-15",
        "outputId": "59177d84-8b39-4d1b-e11d-99cf591534e2"
      },
      "source": [
        "num = 32\n",
        "def ConvertDec(num):\n",
        "  return bin(num), oct(num), hex(num)\n",
        "\n",
        "a, b, c = ConvertDec(num)\n",
        "\n",
        "print('conversion', num, 'is')\n",
        "print( a, 'in binary')\n",
        "print( b, 'in octal')\n",
        "print( c, 'in hexadecimal')"
      ],
      "execution_count": 16,
      "outputs": [
        {
          "output_type": "stream",
          "text": [
            "conversion 32 is\n",
            "0b100000 in binary\n",
            "0o40 in octal\n",
            "0x20 in hexadecimal\n"
          ],
          "name": "stdout"
        }
      ]
    },
    {
      "cell_type": "markdown",
      "metadata": {
        "id": "N0c7o2_3I77Y"
      },
      "source": [
        "__4. Write a Python Program To Find ASCII value of a character?__"
      ]
    },
    {
      "cell_type": "code",
      "metadata": {
        "colab": {
          "base_uri": "https://localhost:8080/"
        },
        "id": "6PB5xXXTS6wc",
        "outputId": "da1a875e-bf0d-4855-bcfa-49fcb6f42690"
      },
      "source": [
        "char = 'b'\n",
        "print('ASCII value of ' + char + ' is', ord(char))"
      ],
      "execution_count": 17,
      "outputs": [
        {
          "output_type": "stream",
          "text": [
            "ASCII value of b is 98\n"
          ],
          "name": "stdout"
        }
      ]
    },
    {
      "cell_type": "markdown",
      "metadata": {
        "id": "8QVhg80TI-gH"
      },
      "source": [
        "__5. Write a Python Program to Make a Simple Calculator with 4 basic mathematical operations?__"
      ]
    },
    {
      "cell_type": "code",
      "metadata": {
        "colab": {
          "base_uri": "https://localhost:8080/"
        },
        "id": "lXNK6RN3URi9",
        "outputId": "c7d6784a-f550-4b9d-faf0-08bacb2c8851"
      },
      "source": [
        "print(\"Simple Calculator with 4 basic mathematical operations\")\n",
        "print(\"------------------------------------------------------\")\n",
        "print(\"Choose available feature\")\n",
        "print(\"1.Addition\")\n",
        "print(\"2.Subtraction\")\n",
        "print(\"3.Multiplication\")\n",
        "print(\"4.Division\")\n",
        "\n",
        "def add(x, y):\n",
        "    return x + y\n",
        "\n",
        "def subtract(x, y):\n",
        "    return x - y\n",
        "\n",
        "def multiply(x, y):\n",
        "    return x * y\n",
        "\n",
        "def divide(x, y):\n",
        "    return x / y\n",
        "\n",
        "choice = input(\"Enter choice(1/2/3/4): \")\n",
        "\n",
        "if choice in ('1', '2', '3', '4'):\n",
        "  num1 = float(input(\"Enter first number: \"))\n",
        "  num2 = float(input(\"Enter second number: \"))\n",
        "\n",
        "  if choice == '1':\n",
        "    print(num1, \"+\", num2, \"=\", add(num1, num2))\n",
        "  elif choice == '2':\n",
        "    print(num1, \"-\", num2, \"=\", subtract(num1, num2))\n",
        "  elif choice == '3':\n",
        "    print(num1, \"*\", num2, \"=\", multiply(num1, num2))\n",
        "  elif choice == '4':\n",
        "    print(num1, \"/\", num2, \"=\", divide(num1, num2))\n",
        "else:\n",
        "  print(\"Invalid Input\")"
      ],
      "execution_count": 18,
      "outputs": [
        {
          "output_type": "stream",
          "text": [
            "Simple Calculator with 4 basic mathematical operations\n",
            "------------------------------------------------------\n",
            "Choose available feature\n",
            "1.Addition\n",
            "2.Subtraction\n",
            "3.Multiplication\n",
            "4.Division\n",
            "Enter choice(1/2/3/4): 3\n",
            "Enter first number: 12\n",
            "Enter second number: 15\n",
            "12.0 * 15.0 = 180.0\n"
          ],
          "name": "stdout"
        }
      ]
    }
  ]
}