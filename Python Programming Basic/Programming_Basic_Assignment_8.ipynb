{
  "nbformat": 4,
  "nbformat_minor": 0,
  "metadata": {
    "colab": {
      "name": "Programming Basic Assignment_8.ipynb",
      "provenance": []
    },
    "kernelspec": {
      "name": "python3",
      "display_name": "Python 3"
    },
    "language_info": {
      "name": "python"
    }
  },
  "cells": [
    {
      "cell_type": "markdown",
      "metadata": {
        "id": "Via_hgtqdUIA"
      },
      "source": [
        "# Programming Basic Assignment_8"
      ]
    },
    {
      "cell_type": "markdown",
      "metadata": {
        "id": "SBewDjCldW1W"
      },
      "source": [
        "__1. Write a Python Program to Add Two Matrices?__"
      ]
    },
    {
      "cell_type": "code",
      "metadata": {
        "colab": {
          "base_uri": "https://localhost:8080/"
        },
        "id": "snZf6sPId0DE",
        "outputId": "e8d394ae-913b-4959-e36a-de4f31531d5e"
      },
      "source": [
        "X = [[3,8,9],\n",
        "    [4 ,5,2],\n",
        "    [9 ,8,6]]\n",
        "\n",
        "Y = [[5,7,1],\n",
        "    [6,4,3],\n",
        "    [4,5,8]]\n",
        "\n",
        "result = [[0,0,0],\n",
        "        [0,0,0],\n",
        "        [0,0,0]]\n",
        "\n",
        "for i in range(len(X)):\n",
        "   for j in range(len(X[0])):\n",
        "       result[i][j] = X[i][j] + Y[i][j]\n",
        "\n",
        "for i in result:\n",
        "   print(i)"
      ],
      "execution_count": 4,
      "outputs": [
        {
          "output_type": "stream",
          "text": [
            "[8, 15, 10]\n",
            "[10, 9, 5]\n",
            "[13, 13, 14]\n"
          ],
          "name": "stdout"
        }
      ]
    },
    {
      "cell_type": "markdown",
      "metadata": {
        "id": "1n8Csp-9deNS"
      },
      "source": [
        "__2. Write a Python Program to Multiply Two Matrices?__"
      ]
    },
    {
      "cell_type": "code",
      "metadata": {
        "colab": {
          "base_uri": "https://localhost:8080/"
        },
        "id": "4oNW7IIhf6nA",
        "outputId": "bb4a4da6-f7ff-45ab-9410-99eb0a0dff01"
      },
      "source": [
        "X = [[3,8,9],\n",
        "    [4 ,5,2],\n",
        "    [9 ,8,6]]\n",
        "\n",
        "Y = [[5,7,1],\n",
        "    [6,4,3],\n",
        "    [4,5,8]]\n",
        "\n",
        "result = [[0,0,0],\n",
        "        [0,0,0],\n",
        "        [0,0,0]]\n",
        "\n",
        "for i in range(len(X)):\n",
        "   for j in range(len(X[0])):\n",
        "     for k in range(len(Y)):\n",
        "       result[i][j] += X[i][k] * Y[k][j]\n",
        "\n",
        "for i in result:\n",
        "    print(i)"
      ],
      "execution_count": 5,
      "outputs": [
        {
          "output_type": "stream",
          "text": [
            "[99, 98, 99]\n",
            "[58, 58, 35]\n",
            "[117, 125, 81]\n"
          ],
          "name": "stdout"
        }
      ]
    },
    {
      "cell_type": "markdown",
      "metadata": {
        "id": "zdBNc5kEdiK4"
      },
      "source": [
        "__3. Write a Python Program to Transpose a Matrix?__"
      ]
    },
    {
      "cell_type": "code",
      "metadata": {
        "colab": {
          "base_uri": "https://localhost:8080/"
        },
        "id": "h5_oZY8Jhjhy",
        "outputId": "0d66d1a2-5987-4e70-cbe1-aab0945313e8"
      },
      "source": [
        "X = [[3,8,9],\n",
        "    [4 ,5,2],\n",
        "    [9 ,8,6]]\n",
        "\n",
        "result = [[0,0,0],\n",
        "        [0,0,0],\n",
        "        [0,0,0]]\n",
        "\n",
        "for i in range(len(X)):\n",
        "   for j in range(len(X[0])):\n",
        "       result[j][i] = X[i][j]\n",
        "\n",
        "for i in result:\n",
        "   print(i)"
      ],
      "execution_count": 6,
      "outputs": [
        {
          "output_type": "stream",
          "text": [
            "[3, 4, 9]\n",
            "[8, 5, 8]\n",
            "[9, 2, 6]\n"
          ],
          "name": "stdout"
        }
      ]
    },
    {
      "cell_type": "markdown",
      "metadata": {
        "id": "O7RhSkkzdlC1"
      },
      "source": [
        "__4. Write a Python Program to Sort Words in Alphabetic Order?__"
      ]
    },
    {
      "cell_type": "code",
      "metadata": {
        "colab": {
          "base_uri": "https://localhost:8080/"
        },
        "id": "GjnVg7BLiOPS",
        "outputId": "5459c5f1-ca3e-458e-f21c-c9195a80b45f"
      },
      "source": [
        "my_str = input(\"Enter a string: \")\n",
        "\n",
        "words = [word.lower() for word in my_str.split()]\n",
        "words.sort()\n",
        "words"
      ],
      "execution_count": 7,
      "outputs": [
        {
          "output_type": "stream",
          "text": [
            "Enter a string: Write a Python Program to Sort Words in Alphabetic Order?\n"
          ],
          "name": "stdout"
        },
        {
          "output_type": "execute_result",
          "data": {
            "text/plain": [
              "['a',\n",
              " 'alphabetic',\n",
              " 'in',\n",
              " 'order?',\n",
              " 'program',\n",
              " 'python',\n",
              " 'sort',\n",
              " 'to',\n",
              " 'words',\n",
              " 'write']"
            ]
          },
          "metadata": {
            "tags": []
          },
          "execution_count": 7
        }
      ]
    },
    {
      "cell_type": "markdown",
      "metadata": {
        "id": "uYxN6XD-dpPq"
      },
      "source": [
        "__5. Write a Python Program to Remove Punctuation From a String?__"
      ]
    },
    {
      "cell_type": "code",
      "metadata": {
        "colab": {
          "base_uri": "https://localhost:8080/"
        },
        "id": "9q0lJJI-dQzr",
        "outputId": "f4b56359-1c83-4e14-fa04-5161d3821585"
      },
      "source": [
        "my_str = \"Hello!!!, ---World???.\"\n",
        "punctuations = '''!()-[]{};:'\"\\,<>./?@#$%^&*_~'''\n",
        "no_punct = \"\"\n",
        "for char in my_str:\n",
        "   if char not in punctuations:\n",
        "       no_punct += char\n",
        "print(no_punct)"
      ],
      "execution_count": 10,
      "outputs": [
        {
          "output_type": "stream",
          "text": [
            "Hello World\n"
          ],
          "name": "stdout"
        }
      ]
    }
  ]
}