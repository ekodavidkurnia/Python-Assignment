{
  "nbformat": 4,
  "nbformat_minor": 0,
  "metadata": {
    "colab": {
      "name": "Programming Basic Assignment_11.ipynb",
      "provenance": []
    },
    "kernelspec": {
      "name": "python3",
      "display_name": "Python 3"
    },
    "language_info": {
      "name": "python"
    }
  },
  "cells": [
    {
      "cell_type": "markdown",
      "metadata": {
        "id": "nohWN5jS6J4b"
      },
      "source": [
        "# Programming Basic Assignment_11"
      ]
    },
    {
      "cell_type": "markdown",
      "metadata": {
        "id": "OMH47Ckq6Mgv"
      },
      "source": [
        "__1. Write a Python program to find words which are greater than given length k?__"
      ]
    },
    {
      "cell_type": "code",
      "metadata": {
        "colab": {
          "base_uri": "https://localhost:8080/"
        },
        "id": "wqdJbwAt6pgM",
        "outputId": "56bf761e-2354-44a9-a1a1-4898a2b0f0e9"
      },
      "source": [
        "def greater_k(string, k):\n",
        "  greaterK = []\n",
        "  text = string.split()\n",
        "  for i in text:\n",
        "    if len(i)>k:\n",
        "      greaterK.append(i)\n",
        "  return greaterK\n",
        "\n",
        "string = 'Write a Python program to find words which are greater than given length k?'\n",
        "greater_k(string, 5)"
      ],
      "execution_count": 1,
      "outputs": [
        {
          "output_type": "execute_result",
          "data": {
            "text/plain": [
              "['Python', 'program', 'greater', 'length']"
            ]
          },
          "metadata": {
            "tags": []
          },
          "execution_count": 1
        }
      ]
    },
    {
      "cell_type": "markdown",
      "metadata": {
        "id": "Sovc-Mo-6Q3F"
      },
      "source": [
        "__2. Write a Python program for removing i-th character from a string?__"
      ]
    },
    {
      "cell_type": "code",
      "metadata": {
        "colab": {
          "base_uri": "https://localhost:8080/",
          "height": 36
        },
        "id": "NDqWfRXC8FSO",
        "outputId": "568a11e1-786c-4f17-b74f-0da1643be636"
      },
      "source": [
        "def removeth(string, i):\n",
        "  return string[:i]+string[i+1:]\n",
        "\n",
        "string = 'Python 3'\n",
        "removeth(string, 5)"
      ],
      "execution_count": 2,
      "outputs": [
        {
          "output_type": "execute_result",
          "data": {
            "application/vnd.google.colaboratory.intrinsic+json": {
              "type": "string"
            },
            "text/plain": [
              "'Pytho 3'"
            ]
          },
          "metadata": {
            "tags": []
          },
          "execution_count": 2
        }
      ]
    },
    {
      "cell_type": "markdown",
      "metadata": {
        "id": "DRZDhk716WEM"
      },
      "source": [
        "__3. Write a Python program to split and join a string?__"
      ]
    },
    {
      "cell_type": "code",
      "metadata": {
        "colab": {
          "base_uri": "https://localhost:8080/"
        },
        "id": "NALFtXut9ReG",
        "outputId": "51e7f7bf-bbf1-417c-9537-f0e8276ec14a"
      },
      "source": [
        "def splitString(string):\n",
        "  splited = string.split()\n",
        "  return splited\n",
        "\n",
        "def joinString(splited):\n",
        "  joined = ' '.join(splited)\n",
        "  return joined\n",
        "\n",
        "string = 'Write a Python program to split and join a string'\n",
        "splited = splitString(string) \n",
        "print(splitString(string))\n",
        "#print(joinString(splited)))\n"
      ],
      "execution_count": 14,
      "outputs": [
        {
          "output_type": "stream",
          "text": [
            "['Write', 'a', 'Python', 'program', 'to', 'split', 'and', 'join', 'a', 'string']\n"
          ],
          "name": "stdout"
        }
      ]
    },
    {
      "cell_type": "markdown",
      "metadata": {
        "id": "zQCeq-wB6Yt3"
      },
      "source": [
        "__4. Write a Python to check if a given string is binary string or not?__"
      ]
    },
    {
      "cell_type": "markdown",
      "metadata": {
        "id": "8ZKn2hK26b5f"
      },
      "source": [
        "__5. Write a Python program to find uncommon words from two Strings?__"
      ]
    },
    {
      "cell_type": "markdown",
      "metadata": {
        "id": "heSmMYmX6h-N"
      },
      "source": [
        "__6. Write a Python to find all duplicate characters in string?__"
      ]
    },
    {
      "cell_type": "markdown",
      "metadata": {
        "id": "dXEvZUj66lyq"
      },
      "source": [
        "__7. Write a Python Program to check if a string contains any special character?__"
      ]
    },
    {
      "cell_type": "code",
      "metadata": {
        "id": "hFSADbLp6GK4"
      },
      "source": [
        ""
      ],
      "execution_count": null,
      "outputs": []
    }
  ]
}