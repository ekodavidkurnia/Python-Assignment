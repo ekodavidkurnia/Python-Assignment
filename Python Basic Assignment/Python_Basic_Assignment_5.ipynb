{
  "nbformat": 4,
  "nbformat_minor": 0,
  "metadata": {
    "colab": {
      "name": "Python Basic Assignment_5.ipynb",
      "provenance": []
    },
    "kernelspec": {
      "name": "python3",
      "display_name": "Python 3"
    },
    "language_info": {
      "name": "python"
    }
  },
  "cells": [
    {
      "cell_type": "markdown",
      "metadata": {
        "id": "5ONDk6cPTiyT"
      },
      "source": [
        "# Python Basic Assignment_5"
      ]
    },
    {
      "cell_type": "markdown",
      "metadata": {
        "id": "KNKeMAXujm1-"
      },
      "source": [
        "__1. What does an empty dictionary's code look like?__"
      ]
    },
    {
      "cell_type": "markdown",
      "metadata": {
        "id": "fIgps_Cmk0kv"
      },
      "source": [
        "dict = {} (two curly brackets)"
      ]
    },
    {
      "cell_type": "code",
      "metadata": {
        "colab": {
          "base_uri": "https://localhost:8080/"
        },
        "id": "OuxmGGHYlAZH",
        "outputId": "cbdc6a6c-9bdd-40e9-b479-79d2da57b9ea"
      },
      "source": [
        "type({})"
      ],
      "execution_count": 1,
      "outputs": [
        {
          "output_type": "execute_result",
          "data": {
            "text/plain": [
              "dict"
            ]
          },
          "metadata": {
            "tags": []
          },
          "execution_count": 1
        }
      ]
    },
    {
      "cell_type": "markdown",
      "metadata": {
        "id": "X6CJO-lUj70x"
      },
      "source": [
        "__2. What is the value of a dictionary value with the key 'foo' and the value 42?__"
      ]
    },
    {
      "cell_type": "markdown",
      "metadata": {
        "id": "gnlzyrH9lI6G"
      },
      "source": [
        "{'foo' : 42}"
      ]
    },
    {
      "cell_type": "markdown",
      "metadata": {
        "id": "NaZXdJY4j_A7"
      },
      "source": [
        "__3. What is the most significant distinction between a dictionary and a list?__"
      ]
    },
    {
      "cell_type": "markdown",
      "metadata": {
        "id": "6oMvpqY0lQrQ"
      },
      "source": [
        "- dictionary : there are key and value, items in dictionary are unordered\n",
        "- list : no key and value, items in list are ordered"
      ]
    },
    {
      "cell_type": "markdown",
      "metadata": {
        "id": "lMov-Fl_kCUX"
      },
      "source": [
        "__4. What happens if you try to access spam['foo'] if spam is {'bar': 100}?__"
      ]
    },
    {
      "cell_type": "markdown",
      "metadata": {
        "id": "T44CFbg6l4Lp"
      },
      "source": [
        "KeyError"
      ]
    },
    {
      "cell_type": "code",
      "metadata": {
        "colab": {
          "base_uri": "https://localhost:8080/",
          "height": 234
        },
        "id": "408aZvmyl_pL",
        "outputId": "4cdf7304-d9cf-41bc-ff16-4afc6a37c105"
      },
      "source": [
        "spam = {'bar' : 100}\n",
        "spam['foo']"
      ],
      "execution_count": 2,
      "outputs": [
        {
          "output_type": "error",
          "ename": "KeyError",
          "evalue": "ignored",
          "traceback": [
            "\u001b[0;31m---------------------------------------------------------------------------\u001b[0m",
            "\u001b[0;31mKeyError\u001b[0m                                  Traceback (most recent call last)",
            "\u001b[0;32m<ipython-input-2-4094ed60376e>\u001b[0m in \u001b[0;36m<module>\u001b[0;34m()\u001b[0m\n\u001b[1;32m      1\u001b[0m \u001b[0mspam\u001b[0m \u001b[0;34m=\u001b[0m \u001b[0;34m{\u001b[0m\u001b[0;34m'bar'\u001b[0m \u001b[0;34m:\u001b[0m \u001b[0;36m100\u001b[0m\u001b[0;34m}\u001b[0m\u001b[0;34m\u001b[0m\u001b[0;34m\u001b[0m\u001b[0m\n\u001b[0;32m----> 2\u001b[0;31m \u001b[0mspam\u001b[0m\u001b[0;34m[\u001b[0m\u001b[0;34m'foo'\u001b[0m\u001b[0;34m]\u001b[0m\u001b[0;34m\u001b[0m\u001b[0;34m\u001b[0m\u001b[0m\n\u001b[0m",
            "\u001b[0;31mKeyError\u001b[0m: 'foo'"
          ]
        }
      ]
    },
    {
      "cell_type": "markdown",
      "metadata": {
        "id": "DjKcTlR1kF5X"
      },
      "source": [
        "__5. If a dictionary is stored in spam, what is the difference between the expressions 'cat' in spam and 'cat' in spam.keys()?__"
      ]
    },
    {
      "cell_type": "markdown",
      "metadata": {
        "id": "idvFGrSUmZqC"
      },
      "source": [
        "no difference because in operator checks the dictionary keys"
      ]
    },
    {
      "cell_type": "markdown",
      "metadata": {
        "id": "0zulwFtxkI3L"
      },
      "source": [
        "__6. If a dictionary is stored in spam, what is the difference between the expressions 'cat' in spam and 'cat' in spam.values()?__"
      ]
    },
    {
      "cell_type": "markdown",
      "metadata": {
        "id": "eSZKMnd-ngkU"
      },
      "source": [
        "- 'cat' in spam : check wether 'cat' in spam key or not\n",
        "- 'cat' in spam.values() : check wether 'cat' in spam value or not"
      ]
    },
    {
      "cell_type": "markdown",
      "metadata": {
        "id": "aZ6RjHFOkLzk"
      },
      "source": [
        "__7. What is a shortcut for the following code?__"
      ]
    },
    {
      "cell_type": "markdown",
      "metadata": {
        "id": "JKongTXzkVdr"
      },
      "source": [
        "if 'color' not in spam:\n",
        "> spam['color'] = 'black'"
      ]
    },
    {
      "cell_type": "markdown",
      "metadata": {
        "id": "zmwwR2uCopXu"
      },
      "source": [
        "spam.setdefault('color', 'black')"
      ]
    },
    {
      "cell_type": "markdown",
      "metadata": {
        "id": "niWTWP80kv5k"
      },
      "source": [
        "__8. How do you \"pretty print\" dictionary values using which module and function?__"
      ]
    },
    {
      "cell_type": "markdown",
      "metadata": {
        "id": "gO3Hvt3zpu19"
      },
      "source": [
        "we can use"
      ]
    },
    {
      "cell_type": "markdown",
      "metadata": {
        "id": "Nj-fh0E2pxQu"
      },
      "source": [
        "- pprint.pprint() from pprint module\n",
        "- json.dumps() from json module\n",
        "- yaml.dump() from yaml module"
      ]
    }
  ]
}