{
  "nbformat": 4,
  "nbformat_minor": 0,
  "metadata": {
    "colab": {
      "name": "Python Basic Assignment_7.ipynb",
      "provenance": []
    },
    "kernelspec": {
      "name": "python3",
      "display_name": "Python 3"
    },
    "language_info": {
      "name": "python"
    }
  },
  "cells": [
    {
      "cell_type": "markdown",
      "metadata": {
        "id": "0NLJLSBq0BvA"
      },
      "source": [
        "# Python Basic Assignment_7"
      ]
    },
    {
      "cell_type": "markdown",
      "metadata": {
        "id": "qAMzjNFl0Dx1"
      },
      "source": [
        "__1. What is the name of the feature responsible for generating Regex objects?__"
      ]
    },
    {
      "cell_type": "markdown",
      "metadata": {
        "id": "Edyt3Cef93uB"
      },
      "source": [
        "re.compile() will return regex objects"
      ]
    },
    {
      "cell_type": "markdown",
      "metadata": {
        "id": "srQQYeX-0lcK"
      },
      "source": [
        "__2. Why do raw strings often appear in Regex objects?__"
      ]
    },
    {
      "cell_type": "markdown",
      "metadata": {
        "id": "beuhmvSJ_fTq"
      },
      "source": [
        "because it is use to treat backslash as a normal character"
      ]
    },
    {
      "cell_type": "code",
      "metadata": {
        "colab": {
          "base_uri": "https://localhost:8080/"
        },
        "id": "R3u4M5ve_pJh",
        "outputId": "79485c99-f5c1-460a-f476-a87f9ddb450b"
      },
      "source": [
        "print('Hello\\nworld')"
      ],
      "execution_count": 1,
      "outputs": [
        {
          "output_type": "stream",
          "text": [
            "Hello\n",
            "world\n"
          ],
          "name": "stdout"
        }
      ]
    },
    {
      "cell_type": "code",
      "metadata": {
        "colab": {
          "base_uri": "https://localhost:8080/"
        },
        "id": "mVhKSfpw_0Yq",
        "outputId": "639b48ac-d37f-4e10-fc21-4fa765e3d6da"
      },
      "source": [
        "print(r'Hello\\nworld')"
      ],
      "execution_count": 2,
      "outputs": [
        {
          "output_type": "stream",
          "text": [
            "Hello\\nworld\n"
          ],
          "name": "stdout"
        }
      ]
    },
    {
      "cell_type": "markdown",
      "metadata": {
        "id": "0p9WcL9H0qRU"
      },
      "source": [
        "__3. What is the return value of the search() method?__"
      ]
    },
    {
      "cell_type": "markdown",
      "metadata": {
        "id": "FcXbytBF_-ra"
      },
      "source": [
        "return match objects"
      ]
    },
    {
      "cell_type": "code",
      "metadata": {
        "colab": {
          "base_uri": "https://localhost:8080/"
        },
        "id": "dLSz1LzQAdUT",
        "outputId": "beebeae3-f39c-4521-eb97-32146908c6f3"
      },
      "source": [
        "import re\n",
        "\n",
        "txt = \"The rain in Spain\"\n",
        "x = re.search(\"rain\", txt)\n",
        "print(x)"
      ],
      "execution_count": 4,
      "outputs": [
        {
          "output_type": "stream",
          "text": [
            "<re.Match object; span=(4, 8), match='rain'>\n"
          ],
          "name": "stdout"
        }
      ]
    },
    {
      "cell_type": "markdown",
      "metadata": {
        "id": "tzFiwwON0rq6"
      },
      "source": [
        "__4. From a Match item, how do you get the actual strings that match the pattern?__"
      ]
    },
    {
      "cell_type": "markdown",
      "metadata": {
        "id": "qt8tzHKGArSL"
      },
      "source": [
        "with the group() method will get the part of the string where there was a match"
      ]
    },
    {
      "cell_type": "code",
      "metadata": {
        "colab": {
          "base_uri": "https://localhost:8080/"
        },
        "id": "Tt-AfBJmBA1I",
        "outputId": "16f6864b-2b25-4366-e1b2-801c726acd62"
      },
      "source": [
        "txt = \"The rain in Spain\"\n",
        "pattern =  re.compile(r\"\\bS\\w+\")\n",
        "x = pattern.search(txt)\n",
        "print(x.group())"
      ],
      "execution_count": 5,
      "outputs": [
        {
          "output_type": "stream",
          "text": [
            "Spain\n"
          ],
          "name": "stdout"
        }
      ]
    },
    {
      "cell_type": "markdown",
      "metadata": {
        "id": "QtYlALWS0uiO"
      },
      "source": [
        "__5. In the regex which created from the r'(\\d\\d\\d)-(\\d\\d\\d-\\d\\d\\d\\d)', what does group zero cover? Group 2? Group 1?__"
      ]
    },
    {
      "cell_type": "markdown",
      "metadata": {
        "id": "TYfOknb2Bi0y"
      },
      "source": [
        "- group(0) : entire match --> (\\d\\d\\d)-(\\d\\d\\d-\\d\\d\\d\\d)\n",
        "- group(1) : first parentheses --> (\\d\\d\\d)\n",
        "- group(2) : second parentheses --> (\\d\\d\\d-\\d\\d\\d\\d)"
      ]
    },
    {
      "cell_type": "markdown",
      "metadata": {
        "id": "g6JLH3TI0yCJ"
      },
      "source": [
        "__6. In standard expression syntax, parentheses and intervals have distinct meanings. How can you tell a regex that you want it to fit real parentheses and periods?__"
      ]
    },
    {
      "cell_type": "markdown",
      "metadata": {
        "id": "YacmWNIeCKse"
      },
      "source": [
        "use backslah (\\ .,)"
      ]
    },
    {
      "cell_type": "markdown",
      "metadata": {
        "id": "M6AuUmPz00ry"
      },
      "source": [
        "__7. The findall() method returns a string list or a list of string tuples. What causes it to return one of the two options?__"
      ]
    },
    {
      "cell_type": "markdown",
      "metadata": {
        "id": "FWYW2nvWCbCX"
      },
      "source": [
        "If regex has no groups, a list of strings is returned. If the regex has groups, a list of tuples of strings is returned"
      ]
    },
    {
      "cell_type": "markdown",
      "metadata": {
        "id": "b3Luhp0104Mo"
      },
      "source": [
        "__8. In standard expressions, what does the | character mean?__"
      ]
    },
    {
      "cell_type": "markdown",
      "metadata": {
        "id": "z_0QFMROCr_3"
      },
      "source": [
        "the | mean 'or'"
      ]
    },
    {
      "cell_type": "markdown",
      "metadata": {
        "id": "Z9yCTgx907pK"
      },
      "source": [
        "__9. In regular expressions, what does the ? character stand for?__"
      ]
    },
    {
      "cell_type": "markdown",
      "metadata": {
        "id": "88kHKntyC7Hb"
      },
      "source": [
        "the ? mean “match zero or one of the preceding group”"
      ]
    },
    {
      "cell_type": "markdown",
      "metadata": {
        "id": "SVX6vUlB0-lP"
      },
      "source": [
        "__10.In regular expressions, what is the difference between the + and * characters?__"
      ]
    },
    {
      "cell_type": "markdown",
      "metadata": {
        "id": "u8v_N_M1DHEx"
      },
      "source": [
        "- \\+ : one or more\n",
        "- \\* : zero or more"
      ]
    },
    {
      "cell_type": "markdown",
      "metadata": {
        "id": "MVGKm-bP1COs"
      },
      "source": [
        "__11. What is the difference between {4} and {4,5} in regular expression?__"
      ]
    },
    {
      "cell_type": "markdown",
      "metadata": {
        "id": "XbHdKU9sDbT9"
      },
      "source": [
        "- {4} : matches exactly four instances of the preceding group\n",
        "- {4,5} : matches between four and five instances"
      ]
    },
    {
      "cell_type": "markdown",
      "metadata": {
        "id": "49prJ8JQ1F1F"
      },
      "source": [
        "__12. What do you mean by the \\d, \\w, and \\s shorthand character classes signify in regular expressions?__"
      ]
    },
    {
      "cell_type": "markdown",
      "metadata": {
        "id": "A9x8647SEDGh"
      },
      "source": [
        "- \\d : match where the string contains digits (numbers from 0-9)\n",
        "- \\w : match where the string contains any word characters (characters from a to Z, digits from 0-9, and the underscore _ character)\n",
        "- \\s : match where the string contains a white space character"
      ]
    },
    {
      "cell_type": "markdown",
      "metadata": {
        "id": "liycz_qv1KA6"
      },
      "source": [
        "__13. What do means by \\D, \\W, and \\S shorthand character classes signify in regular expressions?__"
      ]
    },
    {
      "cell_type": "markdown",
      "metadata": {
        "id": "Fn62VTXmEk2C"
      },
      "source": [
        "- \\D : match where the string __DOES NOT__ contain digits\n",
        "- \\W : match where the string __DOES NOT__ contain any word characters\n",
        "- \\S : match where the string __DOES NOT__ contain a white space character"
      ]
    },
    {
      "cell_type": "markdown",
      "metadata": {
        "id": "AEKnuv_k1NZa"
      },
      "source": [
        "__14. What is the difference between .* and . *?__"
      ]
    },
    {
      "cell_type": "markdown",
      "metadata": {
        "id": "_ZmwfByeFBNF"
      },
      "source": [
        "- .* : performs a greedy match\n",
        "- .*? : performs a nongreedy match (0 or 1)"
      ]
    },
    {
      "cell_type": "markdown",
      "metadata": {
        "id": "SmSZoXPP1Q1g"
      },
      "source": [
        "__15. What is the syntax for matching both numbers and lowercase letters with a character class?__"
      ]
    },
    {
      "cell_type": "markdown",
      "metadata": {
        "id": "ruy9no7JGV8r"
      },
      "source": [
        "[0-9a-z] or [a-z0-9]"
      ]
    },
    {
      "cell_type": "markdown",
      "metadata": {
        "id": "hbhZSNlX1hhP"
      },
      "source": [
        "__16. What is the procedure for making a normal expression in regax case insensitive?__"
      ]
    },
    {
      "cell_type": "markdown",
      "metadata": {
        "id": "Qbr8B79uHgcp"
      },
      "source": [
        "by using re.I or re.IGNORECASE as the second argument to re.compile()"
      ]
    },
    {
      "cell_type": "markdown",
      "metadata": {
        "id": "CmifmHzP1lNx"
      },
      "source": [
        "__17. What does the . character normally match? What does it match if re.DOTALL is passed as 2nd argument in re.compile()?__"
      ]
    },
    {
      "cell_type": "markdown",
      "metadata": {
        "id": "dR3Z0uauHLvE"
      },
      "source": [
        "The . character normally matches any character except the newline character. If re.DOTALL is passed as the second argument to re.compile(), then the dot will also match newline characters."
      ]
    },
    {
      "cell_type": "markdown",
      "metadata": {
        "id": "uD9thOHw1ny7"
      },
      "source": [
        "__18. If numReg = re.compile(r'\\d+'), what will numRegex.sub('X', '11 drummers, 10 pipers, five rings, 4 hen') return?__"
      ]
    },
    {
      "cell_type": "markdown",
      "metadata": {
        "id": "-b3wxHShIlvn"
      },
      "source": [
        "replace any digit with 'X'"
      ]
    },
    {
      "cell_type": "code",
      "metadata": {
        "colab": {
          "base_uri": "https://localhost:8080/",
          "height": 36
        },
        "id": "Jh9yl_4hIP_H",
        "outputId": "496d1c62-752e-457a-8568-01bbef4c1d7d"
      },
      "source": [
        "numReg = re.compile(r'\\d+')\n",
        "numReg.sub('X', '11 drummers, 10 pipers, five rings, 4 hen')"
      ],
      "execution_count": 7,
      "outputs": [
        {
          "output_type": "execute_result",
          "data": {
            "application/vnd.google.colaboratory.intrinsic+json": {
              "type": "string"
            },
            "text/plain": [
              "'X drummers, X pipers, five rings, X hen'"
            ]
          },
          "metadata": {
            "tags": []
          },
          "execution_count": 7
        }
      ]
    },
    {
      "cell_type": "markdown",
      "metadata": {
        "id": "5Y-kjnOJ1rY5"
      },
      "source": [
        "__19. What does passing re.VERBOSE as the 2nd argument to re.compile() allow to do?__"
      ]
    },
    {
      "cell_type": "markdown",
      "metadata": {
        "id": "pVv2ZF46IBKU"
      },
      "source": [
        "to add whitespace and comments to the string passed"
      ]
    },
    {
      "cell_type": "markdown",
      "metadata": {
        "id": "BR0YrZTS2Bav"
      },
      "source": [
        "__20. How would you write a regex that match a number with comma for every three digits? It must match the given following:__"
      ]
    },
    {
      "cell_type": "markdown",
      "metadata": {
        "id": "XciTIWKj2LAD"
      },
      "source": [
        "- '42'\n",
        "- '1,234'\n",
        "- '6,368,745'\n",
        "\n",
        "__but not the following:__\n",
        "- '12,34,567' (which has only two - digits between the commas)\n",
        "- '1234' (which lacks commas)\n"
      ]
    },
    {
      "cell_type": "markdown",
      "metadata": {
        "id": "b_2fLKhPKJRS"
      },
      "source": [
        "pattern = re.compile(r'^\\d{1,3}(,\\d{3})*$')"
      ]
    },
    {
      "cell_type": "markdown",
      "metadata": {
        "id": "xFXCgYQy2QL5"
      },
      "source": [
        "__21. How would you write a regex that matches the full name of someone whose last name is Watanabe? You can assume that the first name that comes before it will always be one word that begins with a capital letter. The regex must match the following:__"
      ]
    },
    {
      "cell_type": "markdown",
      "metadata": {
        "id": "ec6ARbHZ2WuK"
      },
      "source": [
        "- 'Haruto Watanabe'\n",
        "- 'Alice Watanabe'\n",
        "- 'RoboCop Watanabe'\n",
        "\n",
        "__but not the following:__\n",
        "- 'haruto Watanabe' (where the first name is not capitalized)\n",
        "- 'Mr. Watanabe' (where the preceding word has a nonletter character)\n",
        "- 'Watanabe' (which has no first name)\n",
        "- 'Haruto watanabe' (where Watanabe is not capitalized)\n"
      ]
    },
    {
      "cell_type": "markdown",
      "metadata": {
        "id": "jOYq1VphKkYi"
      },
      "source": [
        "pattern = re.compile(r'[A-Z][a-z]*\\sWatanabe')"
      ]
    },
    {
      "cell_type": "markdown",
      "metadata": {
        "id": "2A84VQcx2stv"
      },
      "source": [
        "__22. How would you write a regex that matches a sentence where the first word is either Alice, Bob, or Carol; the second word is either eats, pets, or throws; the third word is apples, cats, or baseballs; and the sentence ends with a period? This regex should be case-insensitive. It must match the following:__"
      ]
    },
    {
      "cell_type": "markdown",
      "metadata": {
        "id": "jwgML8QS2yLi"
      },
      "source": [
        "- 'Alice eats apples.'\n",
        "- 'Bob pets cats.'\n",
        "- 'Carol throws baseballs.'\n",
        "- 'Alice throws Apples.'\n",
        "- 'BOB EATS CATS.'\n",
        "\n",
        "__but not the following:__\n",
        "- 'RoboCop eats apples.'\n",
        "- 'ALICE THROWS FOOTBALLS.'\n",
        "- 'Carol eats 7 cats.'\n"
      ]
    },
    {
      "cell_type": "markdown",
      "metadata": {
        "id": "Twx7k8q-K4M3"
      },
      "source": [
        "pattern = re.compile(r'(Alice|Bob\\Carol)\\s(eats|pets|throws)\\s(apples|cats|baseballs)\\.', re.IGNORECASE)"
      ]
    }
  ]
}