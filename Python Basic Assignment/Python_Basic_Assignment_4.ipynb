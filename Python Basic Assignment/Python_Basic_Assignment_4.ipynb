{
  "nbformat": 4,
  "nbformat_minor": 0,
  "metadata": {
    "colab": {
      "name": "Python Basic Assignment_4.ipynb",
      "provenance": []
    },
    "kernelspec": {
      "name": "python3",
      "display_name": "Python 3"
    },
    "language_info": {
      "name": "python"
    }
  },
  "cells": [
    {
      "cell_type": "markdown",
      "metadata": {
        "id": "R-n6rECLKdax"
      },
      "source": [
        "# Python Basic Assignment_4"
      ]
    },
    {
      "cell_type": "markdown",
      "metadata": {
        "id": "VZw8w7JIKj03"
      },
      "source": [
        "__1. What exactly is []?__"
      ]
    },
    {
      "cell_type": "markdown",
      "metadata": {
        "id": "XVeDwgvRLtzK"
      },
      "source": [
        "It is en empty list or a list that no items inside"
      ]
    },
    {
      "cell_type": "markdown",
      "metadata": {
        "id": "DQH2nGnzKtJB"
      },
      "source": [
        "__2. In a list of values stored in a variable called spam, how would you assign the value &#39;hello&#39; as the\n",
        "third value? (Assume [2, 4, 6, 8, 10] are in spam.)__"
      ]
    },
    {
      "cell_type": "markdown",
      "metadata": {
        "id": "A3fgZ7wPL-iP"
      },
      "source": [
        "spam[2] = 'hello'"
      ]
    },
    {
      "cell_type": "code",
      "metadata": {
        "colab": {
          "base_uri": "https://localhost:8080/"
        },
        "id": "-f3DSZZfMMSv",
        "outputId": "855fa22b-8082-4608-aea9-2fe35b5193c7"
      },
      "source": [
        "spam = [2, 4, 6, 8, 10]\n",
        "spam[2] = 'hello'\n",
        "spam"
      ],
      "execution_count": 1,
      "outputs": [
        {
          "output_type": "execute_result",
          "data": {
            "text/plain": [
              "[2, 4, 'hello', 8, 10]"
            ]
          },
          "metadata": {
            "tags": []
          },
          "execution_count": 1
        }
      ]
    },
    {
      "cell_type": "markdown",
      "metadata": {
        "id": "Q73-bGA5KyMu"
      },
      "source": [
        "__Let's pretend the spam includes the list ['a', 'b', 'c', 'd'] for the next three queries.__"
      ]
    },
    {
      "cell_type": "code",
      "metadata": {
        "id": "z-0W7JkoMloX"
      },
      "source": [
        "spam =  ['a', 'b', 'c', 'd']"
      ],
      "execution_count": 2,
      "outputs": []
    },
    {
      "cell_type": "markdown",
      "metadata": {
        "id": "5inSN0z9LBff"
      },
      "source": [
        "__3. What is the value of spam[int(int('3' * 2) / 11)]?__"
      ]
    },
    {
      "cell_type": "markdown",
      "metadata": {
        "id": "IJobSwK1Mr_P"
      },
      "source": [
        "'d'"
      ]
    },
    {
      "cell_type": "code",
      "metadata": {
        "id": "PE0iFNWvMu2y",
        "outputId": "57d1c81c-7a09-41ee-a25c-37d5496be086",
        "colab": {
          "base_uri": "https://localhost:8080/",
          "height": 36
        }
      },
      "source": [
        "spam[int(int('3' * 2) / 11)]"
      ],
      "execution_count": 3,
      "outputs": [
        {
          "output_type": "execute_result",
          "data": {
            "application/vnd.google.colaboratory.intrinsic+json": {
              "type": "string"
            },
            "text/plain": [
              "'d'"
            ]
          },
          "metadata": {
            "tags": []
          },
          "execution_count": 3
        }
      ]
    },
    {
      "cell_type": "markdown",
      "metadata": {
        "id": "rPr9gQ6wLEzO"
      },
      "source": [
        "__4. What is the value of spam[-1]?__"
      ]
    },
    {
      "cell_type": "markdown",
      "metadata": {
        "id": "7BtZWwNpMzrH"
      },
      "source": [
        "the last value ('d')"
      ]
    },
    {
      "cell_type": "code",
      "metadata": {
        "id": "s07-2SaxM7D8",
        "outputId": "c754306b-0ce1-44e0-956d-e045b17ba439",
        "colab": {
          "base_uri": "https://localhost:8080/",
          "height": 36
        }
      },
      "source": [
        "spam[-1]"
      ],
      "execution_count": 4,
      "outputs": [
        {
          "output_type": "execute_result",
          "data": {
            "application/vnd.google.colaboratory.intrinsic+json": {
              "type": "string"
            },
            "text/plain": [
              "'d'"
            ]
          },
          "metadata": {
            "tags": []
          },
          "execution_count": 4
        }
      ]
    },
    {
      "cell_type": "markdown",
      "metadata": {
        "id": "8S1sToI7LHvI"
      },
      "source": [
        "__5. What is the value of spam[:2]?__"
      ]
    },
    {
      "cell_type": "markdown",
      "metadata": {
        "id": "OmeTBScrM32W"
      },
      "source": [
        "it will give items in spam before index 2 ['a', 'b']"
      ]
    },
    {
      "cell_type": "code",
      "metadata": {
        "id": "Ign_yQGgNQvf",
        "outputId": "babfed4f-e3dd-4618-9d4d-29efab1d1c68",
        "colab": {
          "base_uri": "https://localhost:8080/"
        }
      },
      "source": [
        "spam[:2]"
      ],
      "execution_count": 5,
      "outputs": [
        {
          "output_type": "execute_result",
          "data": {
            "text/plain": [
              "['a', 'b']"
            ]
          },
          "metadata": {
            "tags": []
          },
          "execution_count": 5
        }
      ]
    },
    {
      "cell_type": "markdown",
      "metadata": {
        "id": "saAOyod8LMG_"
      },
      "source": [
        "__Let's pretend bacon has the list [3.14, 'cat,' 11, 'cat,' True] for the next three questions.__"
      ]
    },
    {
      "cell_type": "code",
      "metadata": {
        "id": "5FVlt8mtNUE3"
      },
      "source": [
        "bacon = [3.14, 'cat', 11, 'cat', True]"
      ],
      "execution_count": 13,
      "outputs": []
    },
    {
      "cell_type": "markdown",
      "metadata": {
        "id": "wKuaPWHWLNj2"
      },
      "source": [
        "__6. What is the value of bacon.index('cat')?__"
      ]
    },
    {
      "cell_type": "markdown",
      "metadata": {
        "id": "ibTqOKpONpk4"
      },
      "source": [
        "value index the first 'cat' (1)"
      ]
    },
    {
      "cell_type": "code",
      "metadata": {
        "id": "dIl7tnnoNwD_",
        "outputId": "aa5053a5-568d-41a8-8cb3-7576ddd7b5cd",
        "colab": {
          "base_uri": "https://localhost:8080/"
        }
      },
      "source": [
        "bacon.index('cat')"
      ],
      "execution_count": 10,
      "outputs": [
        {
          "output_type": "execute_result",
          "data": {
            "text/plain": [
              "1"
            ]
          },
          "metadata": {
            "tags": []
          },
          "execution_count": 10
        }
      ]
    },
    {
      "cell_type": "markdown",
      "metadata": {
        "id": "RHiCako-LQ9E"
      },
      "source": [
        "__7. How does bacon.append(99) change the look of the list value in bacon?__"
      ]
    },
    {
      "cell_type": "markdown",
      "metadata": {
        "id": "3cdVfxb-N0Y_"
      },
      "source": [
        "add 99 after last item in bacon [3.14, 'cat', 11, 'cat', True, 99]"
      ]
    },
    {
      "cell_type": "code",
      "metadata": {
        "id": "EBS2FAn3N8HD",
        "outputId": "75851b33-25f4-43df-8f82-22f34db19043",
        "colab": {
          "base_uri": "https://localhost:8080/"
        }
      },
      "source": [
        "bacon.append(99)\n",
        "bacon"
      ],
      "execution_count": 14,
      "outputs": [
        {
          "output_type": "execute_result",
          "data": {
            "text/plain": [
              "[3.14, 'cat', 11, 'cat', True, 99]"
            ]
          },
          "metadata": {
            "tags": []
          },
          "execution_count": 14
        }
      ]
    },
    {
      "cell_type": "markdown",
      "metadata": {
        "id": "Mlup4RVBLTT_"
      },
      "source": [
        "__8. How does bacon.remove('cat') change the look of the list in bacon?__"
      ]
    },
    {
      "cell_type": "markdown",
      "metadata": {
        "id": "6_pd5TpwOQZj"
      },
      "source": [
        "remove the first 'cat' from bacon [3.14, 11, 'cat', True, 99]"
      ]
    },
    {
      "cell_type": "code",
      "metadata": {
        "id": "wI41KRKUOZ6X"
      },
      "source": [
        "bacon.remove('cat')"
      ],
      "execution_count": 15,
      "outputs": []
    },
    {
      "cell_type": "markdown",
      "metadata": {
        "id": "FuDZKZ8GLVO3"
      },
      "source": [
        "__9. What are the list concatenation and list replication operators?__"
      ]
    },
    {
      "cell_type": "markdown",
      "metadata": {
        "id": "8wwWkXWFOgqA"
      },
      "source": [
        "- list concatenation : +\n",
        "- list replication : *"
      ]
    },
    {
      "cell_type": "markdown",
      "metadata": {
        "id": "W7PeVjHXLXI_"
      },
      "source": [
        "__10. What is difference between the list methods append() and insert()?__"
      ]
    },
    {
      "cell_type": "markdown",
      "metadata": {
        "id": "JzAxGxxjOrJ2"
      },
      "source": [
        "- append() : add values only to the end of the list\n",
        "- insert() : add values anywhere in the list"
      ]
    },
    {
      "cell_type": "markdown",
      "metadata": {
        "id": "Z02GSFjCLZHe"
      },
      "source": [
        "__11. What are the two methods for removing items from a list?__"
      ]
    },
    {
      "cell_type": "markdown",
      "metadata": {
        "id": "BjuobGhVO--X"
      },
      "source": [
        "- remove()\n",
        "- pow()"
      ]
    },
    {
      "cell_type": "markdown",
      "metadata": {
        "id": "fDA_uzgWLbNW"
      },
      "source": [
        "__12. Describe how list values and string values are identical.__"
      ]
    },
    {
      "cell_type": "markdown",
      "metadata": {
        "id": "IRYyq7-uPYdn"
      },
      "source": [
        "Both lists and strings can be indexing, parsing, use in for loops, concatenated or replicated, and can be used with the in, and, not in operators."
      ]
    },
    {
      "cell_type": "markdown",
      "metadata": {
        "id": "32if3V7mLdHP"
      },
      "source": [
        "__13. What's the difference between tuples and lists?__"
      ]
    },
    {
      "cell_type": "markdown",
      "metadata": {
        "id": "StWpBjFxPx7Y"
      },
      "source": [
        "- tuples : imutable, using ()\n",
        "- lists  : mutable, using []"
      ]
    },
    {
      "cell_type": "markdown",
      "metadata": {
        "id": "PuGD8MVKLg7X"
      },
      "source": [
        "__14. How do you type a tuple value that only contains the integer 42__"
      ]
    },
    {
      "cell_type": "markdown",
      "metadata": {
        "id": "9Mygfnq9QDU3"
      },
      "source": [
        "(42,) comma is must in this"
      ]
    },
    {
      "cell_type": "code",
      "metadata": {
        "id": "DqL-ETzNQNbp",
        "outputId": "6c5fc758-b71a-4246-e701-c0b72dddd605",
        "colab": {
          "base_uri": "https://localhost:8080/"
        }
      },
      "source": [
        "print(type((42)))\n",
        "print(type((42,)))"
      ],
      "execution_count": 16,
      "outputs": [
        {
          "output_type": "stream",
          "text": [
            "<class 'int'>\n",
            "<class 'tuple'>\n"
          ],
          "name": "stdout"
        }
      ]
    },
    {
      "cell_type": "markdown",
      "metadata": {
        "id": "R0VfTkbDLjAJ"
      },
      "source": [
        "__15. How do you get a list value's tuple form? How do you get a tuple value's list form?__"
      ]
    },
    {
      "cell_type": "markdown",
      "metadata": {
        "id": "zI8GC1yoQfiD"
      },
      "source": [
        "- How do you get a list value's tuple form? tuple(list)\n",
        "-  How do you get a tuple value's list form? list(tuple)"
      ]
    },
    {
      "cell_type": "code",
      "metadata": {
        "id": "gjXR98HGQu9J",
        "outputId": "5cb3f107-1771-4c2f-e6e3-d2337dafc630",
        "colab": {
          "base_uri": "https://localhost:8080/"
        }
      },
      "source": [
        "tp = (1,2,3,4,5)\n",
        "ls = [1,2,3,4,5]\n",
        "\n",
        "print('the {}'.format(ls), 'become', tuple(ls))\n",
        "print('the {}'.format(tp), 'become',list(tp))"
      ],
      "execution_count": 19,
      "outputs": [
        {
          "output_type": "stream",
          "text": [
            "the [1, 2, 3, 4, 5] become (1, 2, 3, 4, 5)\n",
            "the (1, 2, 3, 4, 5) become [1, 2, 3, 4, 5]\n"
          ],
          "name": "stdout"
        }
      ]
    },
    {
      "cell_type": "markdown",
      "metadata": {
        "id": "WBHV5kLQLk-P"
      },
      "source": [
        "__16. Variables that \"contain\" list values are not necessarily lists themselves. Instead, what do they contain?__"
      ]
    },
    {
      "cell_type": "markdown",
      "metadata": {
        "id": "cYZvXRrQRm9Q"
      },
      "source": [
        "references to list values"
      ]
    },
    {
      "cell_type": "markdown",
      "metadata": {
        "id": "S97Azg8FLnqQ"
      },
      "source": [
        "__17. How do you distinguish between copy.copy() and copy.deepcopy()?__"
      ]
    },
    {
      "cell_type": "markdown",
      "metadata": {
        "id": "xW3QV69FRsuq"
      },
      "source": [
        "- copy.copy() : do a shallow copy of a list\n",
        "- copy.deepcopy() : only copy.deepcopy() will duplicate any lists inside the list"
      ]
    }
  ]
}