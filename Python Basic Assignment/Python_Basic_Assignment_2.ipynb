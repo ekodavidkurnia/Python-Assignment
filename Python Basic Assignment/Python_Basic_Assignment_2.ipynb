{
  "nbformat": 4,
  "nbformat_minor": 0,
  "metadata": {
    "colab": {
      "name": "Python Basic Assignment_2.ipynb",
      "provenance": []
    },
    "kernelspec": {
      "name": "python3",
      "display_name": "Python 3"
    },
    "language_info": {
      "name": "python"
    }
  },
  "cells": [
    {
      "cell_type": "markdown",
      "metadata": {
        "id": "iwF_gCHoBawf"
      },
      "source": [
        "# Python Basic Assignment_2"
      ]
    },
    {
      "cell_type": "markdown",
      "metadata": {
        "id": "PlpAGz5GBdSN"
      },
      "source": [
        "__1.What are the two values of the Boolean data type? How do you write them?__"
      ]
    },
    {
      "cell_type": "markdown",
      "metadata": {
        "id": "UOYFh1bXDLGW"
      },
      "source": [
        "True and False, which are espectively 1 and 0 "
      ]
    },
    {
      "cell_type": "code",
      "metadata": {
        "colab": {
          "base_uri": "https://localhost:8080/"
        },
        "id": "oP3VLn_PDW9l",
        "outputId": "1961e219-0016-42e6-c15d-2582dabae37b"
      },
      "source": [
        "print(type(True))\n",
        "print(int(True))\n",
        "print(int(False))"
      ],
      "execution_count": 7,
      "outputs": [
        {
          "output_type": "stream",
          "text": [
            "<class 'bool'>\n",
            "1\n",
            "0\n"
          ],
          "name": "stdout"
        }
      ]
    },
    {
      "cell_type": "markdown",
      "metadata": {
        "id": "vEJ-a8_gBkzz"
      },
      "source": [
        "__2. What are the three different types of Boolean operators?__"
      ]
    },
    {
      "cell_type": "markdown",
      "metadata": {
        "id": "7JmgDtemD7aw"
      },
      "source": [
        "AND, OR and NOT"
      ]
    },
    {
      "cell_type": "markdown",
      "metadata": {
        "id": "foY7nynQBn6b"
      },
      "source": [
        "__3. Make a list of each Boolean operator&#39;s truth tables (i.e. every possible combination of Boolean\n",
        "values for the operator and what it evaluate).__"
      ]
    },
    {
      "cell_type": "markdown",
      "metadata": {
        "id": "MRi8Q_6rHVj7"
      },
      "source": [
        "\n",
        "- True  : 1\n",
        "- False : 0"
      ]
    },
    {
      "cell_type": "markdown",
      "metadata": {
        "id": "9XVPeQ2BGz9r"
      },
      "source": [
        "AND Gate"
      ]
    },
    {
      "cell_type": "markdown",
      "metadata": {
        "id": "0wa0ApMAE5K0"
      },
      "source": [
        "|      A      |      B      |       O       |\n",
        "| :---        |    :----:   |          ---: |\n",
        "|     0       |     0       |       0       |\n",
        "|     0       |     1       |       0       |\n",
        "|     1       |     0       |       0       |\n",
        "|     1       |     1       |       1       |"
      ]
    },
    {
      "cell_type": "markdown",
      "metadata": {
        "id": "GMBwlYGCG2HE"
      },
      "source": [
        "OR Gate"
      ]
    },
    {
      "cell_type": "markdown",
      "metadata": {
        "id": "s4qqTR4hG6Oc"
      },
      "source": [
        "|      A      |      B      |       O       |\n",
        "| :---        |    :----:   |          ---: |\n",
        "|     0       |     0       |       0       |\n",
        "|     0       |     1       |       1       |\n",
        "|     1       |     0       |       1       |\n",
        "|     1       |     1       |       1       |"
      ]
    },
    {
      "cell_type": "markdown",
      "metadata": {
        "id": "Omb01xRwG-TL"
      },
      "source": [
        "NOT Gate"
      ]
    },
    {
      "cell_type": "markdown",
      "metadata": {
        "id": "TomrRsiRHAbE"
      },
      "source": [
        "|      A      |    not A    |\n",
        "| :---        |     ---:    | \n",
        "|     0       |     1       |\n",
        "|     1       |     0       |"
      ]
    },
    {
      "cell_type": "markdown",
      "metadata": {
        "id": "mreXylnSBr1j"
      },
      "source": [
        "__4. What are the values of the following expressions?__\n",
        "- (5 &gt; 4) and (3 == 5) --> __False__\n",
        "- not (5 &gt; 4) --> __Fasle__\n",
        "- (5 &gt; 4) or (3 == 5) --> __True__\n",
        "- not ((5 &gt; 4) or (3 == 5)) --> __False__\n",
        "- (True and True) and (True == False) --> __False__\n",
        "- (not False) or (not True) --> __True__"
      ]
    },
    {
      "cell_type": "code",
      "metadata": {
        "colab": {
          "base_uri": "https://localhost:8080/"
        },
        "id": "3gxyzguOIdVc",
        "outputId": "997553d1-ff7a-4df5-ae2b-aeb130df9da5"
      },
      "source": [
        "print((5>4) and (3==5))\n",
        "print(not (5>4))\n",
        "print((5>4) or (3==5))\n",
        "print(not ((5>4) or (3==5)))\n",
        "print((True and True) and (True==False))\n",
        "print((not False) or (not True))"
      ],
      "execution_count": 8,
      "outputs": [
        {
          "output_type": "stream",
          "text": [
            "False\n",
            "False\n",
            "True\n",
            "False\n",
            "False\n",
            "True\n"
          ],
          "name": "stdout"
        }
      ]
    },
    {
      "cell_type": "markdown",
      "metadata": {
        "id": "Kf4NwjzTB56T"
      },
      "source": [
        "__5. What are the six comparison operators?__"
      ]
    },
    {
      "cell_type": "markdown",
      "metadata": {
        "id": "Fzo5vh9qJOYc"
      },
      "source": [
        "\n",
        "- Less than (<) —-> returns true if the value on the left is less than the value on the right, otherwise it returns false.\n",
        "- Greater than (>) —-> returns true if the value on the left is greater than the value on the right, otherwise it returns false.\n",
        "- Less than or equal to (<=) —-> returns true if the value on the left is less than or equal to the value on the right, otherwise it returns false.\n",
        "- Greater than or equal to (>=) —-> returns true if the value on the left is greater than or equal to the value on the right, otherwise it returns false.\n",
        "- Equal to (==) —-> returns true if the value on the left is equal to the value on the right, otherwise it returns false.\n",
        "- Not equal to (!=) —-> returns true if the value on the left is not equal to the value on the right, otherwise it returns false.\n"
      ]
    },
    {
      "cell_type": "markdown",
      "metadata": {
        "id": "zbhgecqGB938"
      },
      "source": [
        "__6. How do you tell the difference between the equal to and assignment operators?Describe a\n",
        "condition and when you would use one.__"
      ]
    },
    {
      "cell_type": "markdown",
      "metadata": {
        "id": "eO5k98jiK8s1"
      },
      "source": [
        "|      =      |    ==     |\n",
        "| :---:        |     :---:    | \n",
        "|assignment operator                        |     equal to (comparison operator)       |\n",
        "|used for assigning the value to a variable | used for comparing two values.       |"
      ]
    },
    {
      "cell_type": "code",
      "metadata": {
        "colab": {
          "base_uri": "https://localhost:8080/"
        },
        "id": "TLOBMws5Km9U",
        "outputId": "6a3d1fbb-9ff7-4149-ad4b-4428f69c6040"
      },
      "source": [
        "x = '8'\n",
        "print(x)\n",
        "print(x == '7') # It returns True if both the values are equal otherwise returns False "
      ],
      "execution_count": 14,
      "outputs": [
        {
          "output_type": "stream",
          "text": [
            "8\n",
            "False\n"
          ],
          "name": "stdout"
        }
      ]
    },
    {
      "cell_type": "markdown",
      "metadata": {
        "id": "_qJk6XMcCJNF"
      },
      "source": [
        "__7. Identify the three blocks in this code:__\n"
      ]
    },
    {
      "cell_type": "code",
      "metadata": {
        "colab": {
          "base_uri": "https://localhost:8080/"
        },
        "id": "gD2TQ8r6COPU",
        "outputId": "c70bf861-f426-4b99-933a-e4f07e66ef9c"
      },
      "source": [
        "spam = 0\n",
        "if spam == 10:\n",
        "  print('eggs')\n",
        "if spam > 5:\n",
        "  print('bacon')\n",
        "else:\n",
        "  print('ham')\n",
        "  print('spam')\n",
        "  print('spam')"
      ],
      "execution_count": 17,
      "outputs": [
        {
          "output_type": "stream",
          "text": [
            "ham\n",
            "spam\n",
            "spam\n"
          ],
          "name": "stdout"
        }
      ]
    },
    {
      "cell_type": "markdown",
      "metadata": {
        "id": "V93yTB3bNGPW"
      },
      "source": [
        "- will print 'eggs' if spam equal to 10\n",
        "- will print 'bacon' if spam greater than 5\n",
        "- if spam = 10 will print both 'eggs' and 'bacon' \n",
        "- else will print 'ham' 'spam' 'spam' "
      ]
    },
    {
      "cell_type": "markdown",
      "metadata": {
        "id": "UavY5wOpCCwl"
      },
      "source": [
        "__8. Write code that prints Hello if 1 is stored in spam, prints Howdy if 2 is stored in spam, and prints\n",
        "Greetings! if anything else is stored in spam.__"
      ]
    },
    {
      "cell_type": "code",
      "metadata": {
        "colab": {
          "base_uri": "https://localhost:8080/"
        },
        "id": "VExGCb_3adYj",
        "outputId": "5a045065-b4a7-47d9-eb34-6a7be81566f6"
      },
      "source": [
        "spam = 2\n",
        "if spam == 1:\n",
        "  print('Hello')\n",
        "elif spam == 2:\n",
        "  print('Howdy')\n",
        "else:\n",
        "  print('Greetings!')"
      ],
      "execution_count": 19,
      "outputs": [
        {
          "output_type": "stream",
          "text": [
            "Howdy\n"
          ],
          "name": "stdout"
        }
      ]
    },
    {
      "cell_type": "markdown",
      "metadata": {
        "id": "We3AOznQCugs"
      },
      "source": [
        "__9.If your programme is stuck in an endless loop, what keys you’ll press?__"
      ]
    },
    {
      "cell_type": "markdown",
      "metadata": {
        "id": "rhP4kCkAbKQE"
      },
      "source": [
        "CTRL + C"
      ]
    },
    {
      "cell_type": "markdown",
      "metadata": {
        "id": "gLoKKoHWCzMU"
      },
      "source": [
        "__10. How can you tell the difference between break and continue?__"
      ]
    },
    {
      "cell_type": "markdown",
      "metadata": {
        "id": "jutHJOC2bMwe"
      },
      "source": [
        "- break is used for immediate termination of loop.\n",
        "- continue terminate the current iteration and resumes the control to the next iteration of the loop"
      ]
    },
    {
      "cell_type": "markdown",
      "metadata": {
        "id": "7MWVPQqvC1-T"
      },
      "source": [
        "__11. In a for loop, what is the difference between range(10), range(0, 10), and range(0, 10, 1)?__"
      ]
    },
    {
      "cell_type": "markdown",
      "metadata": {
        "id": "YQydIiuYbllq"
      },
      "source": [
        "- range(10) --> generate a sequence of integers starting from 0 to 10-1\n",
        "- range(0,10) --> generate a sequence of integers with initial value 0 to 10-1\n",
        "- range(0,10,1) --> generate a sequence of integers initial value 0 to 10-1 and 1 step"
      ]
    },
    {
      "cell_type": "code",
      "metadata": {
        "colab": {
          "base_uri": "https://localhost:8080/"
        },
        "id": "Dqli8vGibwP0",
        "outputId": "fb0f6eb4-ce18-4bdd-89c9-af34ec209878"
      },
      "source": [
        "for x in range(10):\n",
        "  print(x, end='')\n",
        "print('\\n')\n",
        "\n",
        "for y in range(0, 10):\n",
        "  print(y, end='')\n",
        "print('\\n')\n",
        "\n",
        "for z in range(0, 10, 1):\n",
        "  print(z, end='')"
      ],
      "execution_count": 27,
      "outputs": [
        {
          "output_type": "stream",
          "text": [
            "0123456789\n",
            "\n",
            "0123456789\n",
            "\n",
            "0123456789"
          ],
          "name": "stdout"
        }
      ]
    },
    {
      "cell_type": "markdown",
      "metadata": {
        "id": "LqQ84VpTC488"
      },
      "source": [
        "__12. Write a short program that prints the numbers 1 to 10 using a for loop. Then write an equivalent\n",
        "program that prints the numbers 1 to 10 using a while loop.__"
      ]
    },
    {
      "cell_type": "code",
      "metadata": {
        "colab": {
          "base_uri": "https://localhost:8080/"
        },
        "id": "z3geMmTte9HT",
        "outputId": "54cf74ed-c143-46c3-8c10-1b2e6015927c"
      },
      "source": [
        "for x in range(1, 11):\n",
        "  print(x, end='')\n",
        "print('\\n')\n",
        "\n",
        "y = 1\n",
        "while y < 11:\n",
        "  print(y, end='')\n",
        "  y += 1\n"
      ],
      "execution_count": 29,
      "outputs": [
        {
          "output_type": "stream",
          "text": [
            "12345678910\n",
            "\n",
            "12345678910"
          ],
          "name": "stdout"
        }
      ]
    },
    {
      "cell_type": "markdown",
      "metadata": {
        "id": "s18V4BEBC767"
      },
      "source": [
        "__13. If you had a function named bacon() inside a module named spam, how would you call it after\n",
        "importing spam?__"
      ]
    },
    {
      "cell_type": "markdown",
      "metadata": {
        "id": "TLNTGt8Gh-Tb"
      },
      "source": [
        "module is just a .py file"
      ]
    },
    {
      "cell_type": "markdown",
      "metadata": {
        "id": "jfbKAOvagu1c"
      },
      "source": [
        "> def bacon(): #inside module spam\n",
        ">>  return 'Hello'\n",
        "\n",
        "> import spam\n",
        "\n",
        "> spam.bacon() # will print 'Hello'"
      ]
    }
  ]
}