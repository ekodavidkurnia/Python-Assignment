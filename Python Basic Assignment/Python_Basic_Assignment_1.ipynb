{
  "nbformat": 4,
  "nbformat_minor": 0,
  "metadata": {
    "colab": {
      "name": "Python Basic Assignment_1.ipynb",
      "provenance": []
    },
    "kernelspec": {
      "name": "python3",
      "display_name": "Python 3"
    },
    "language_info": {
      "name": "python"
    }
  },
  "cells": [
    {
      "cell_type": "markdown",
      "metadata": {
        "id": "lPw6UKW5anVp"
      },
      "source": [
        "# Python Basic Assignment_1\n",
        "\n"
      ]
    },
    {
      "cell_type": "markdown",
      "metadata": {
        "id": "RORvVpftbR2x"
      },
      "source": [
        "1. In the below elements which of them are values or an expression? eg:- values can be\n",
        "integer or string and expressions will be mathematical operators.\n",
        "- *\n",
        "- 'hello'\n",
        "- -87.8\n",
        "- /\n",
        "- +\n",
        "- 6"
      ]
    },
    {
      "cell_type": "markdown",
      "metadata": {
        "id": "g167t__3d0to"
      },
      "source": [
        "- values : 'hello', -87.8, 6\n",
        "- expressions : *, /, +"
      ]
    },
    {
      "cell_type": "markdown",
      "metadata": {
        "id": "ZZLooVHQbtrP"
      },
      "source": [
        "2. What is the difference between string and variable?"
      ]
    },
    {
      "cell_type": "markdown",
      "metadata": {
        "id": "zK2_qtvSejUQ"
      },
      "source": [
        "string represent type of data (text) and variable is used to represent any value"
      ]
    },
    {
      "cell_type": "code",
      "metadata": {
        "id": "vXGHA8LnfPYX"
      },
      "source": [
        "x = 'Good Job iNeuron!!'\n",
        "# x is the variable\n",
        "# 'Good Job iNeuron!!' is string"
      ],
      "execution_count": 2,
      "outputs": []
    },
    {
      "cell_type": "markdown",
      "metadata": {
        "id": "ftJiUeXtbVdY"
      },
      "source": [
        "3. Describe three different data types."
      ]
    },
    {
      "cell_type": "markdown",
      "metadata": {
        "id": "J7_Ks42_f0xg"
      },
      "source": [
        "- string : 'Hello!!'\n",
        "- integer : 8\n",
        "- float : 7.5\n",
        "- Boolean : True/False"
      ]
    },
    {
      "cell_type": "markdown",
      "metadata": {
        "id": "yceieaI9cEgv"
      },
      "source": [
        "4. What is an expression made up of? What do all expressions do?"
      ]
    },
    {
      "cell_type": "markdown",
      "metadata": {
        "id": "hY5Nvi6Cg31I"
      },
      "source": [
        "expression is a combination of values, variables, operators, and always evaluate down to a single value."
      ]
    },
    {
      "cell_type": "markdown",
      "metadata": {
        "id": "rEwFaWcicN4X"
      },
      "source": [
        "5. This assignment statements, like spam = 10. What is the difference between an\n",
        "expression and a statement?"
      ]
    },
    {
      "cell_type": "markdown",
      "metadata": {
        "id": "z1WZDhBuhobw"
      },
      "source": [
        "expression evaluates to a value while statement does something."
      ]
    },
    {
      "cell_type": "code",
      "metadata": {
        "colab": {
          "base_uri": "https://localhost:8080/"
        },
        "id": "LtMXS-UbiApC",
        "outputId": "ae8c3754-c5b2-46a2-d2ad-8e73137f1dbe"
      },
      "source": [
        "x = 5       # statement\n",
        "x + 5       # expression\n",
        "y = x + 5   # statement\n",
        "print(y)    # statement"
      ],
      "execution_count": 5,
      "outputs": [
        {
          "output_type": "stream",
          "text": [
            "10\n"
          ],
          "name": "stdout"
        }
      ]
    },
    {
      "cell_type": "markdown",
      "metadata": {
        "id": "JjL0HC_kcVBv"
      },
      "source": [
        "6. After running the following code, what does the variable bacon contain?\n",
        "\n",
        "- bacon = 22\n",
        "- bacon + 1"
      ]
    },
    {
      "cell_type": "markdown",
      "metadata": {
        "id": "jMimq3lDiwY4"
      },
      "source": [
        "bacon still set to 22"
      ]
    },
    {
      "cell_type": "code",
      "metadata": {
        "colab": {
          "base_uri": "https://localhost:8080/"
        },
        "id": "3lxC1y_zahBz",
        "outputId": "0b94a113-f1f2-4d59-b9d6-2830242a8c23"
      },
      "source": [
        "bacon = 22\n",
        "bacon += 1 # if want to change value of bacon have to assignment statement\n",
        "bacon"
      ],
      "execution_count": 7,
      "outputs": [
        {
          "output_type": "execute_result",
          "data": {
            "text/plain": [
              "23"
            ]
          },
          "metadata": {
            "tags": []
          },
          "execution_count": 7
        }
      ]
    },
    {
      "cell_type": "markdown",
      "metadata": {
        "id": "xPQBYmCEcO4_"
      },
      "source": [
        "7. What should the values of the following two terms be?\n",
        "- 'spam' + 'spamspam'\n",
        "- 'spam' * 3"
      ]
    },
    {
      "cell_type": "markdown",
      "metadata": {
        "id": "K0-8YG2BkCph"
      },
      "source": [
        "both will be 'spamspamspam' "
      ]
    },
    {
      "cell_type": "code",
      "metadata": {
        "colab": {
          "base_uri": "https://localhost:8080/"
        },
        "id": "4Cmf5_BNkKDa",
        "outputId": "2e2b5a30-7dfc-4253-97fd-609a94a37c0d"
      },
      "source": [
        "print('spam' + 'spamspam')\n",
        "print('spam' * 3)"
      ],
      "execution_count": 9,
      "outputs": [
        {
          "output_type": "stream",
          "text": [
            "spamspamspam\n",
            "spamspamspam\n"
          ],
          "name": "stdout"
        }
      ]
    },
    {
      "cell_type": "markdown",
      "metadata": {
        "id": "rjNbkZ-FdRjK"
      },
      "source": [
        "8. Why is eggs a valid variable name while 100 is invalid?"
      ]
    },
    {
      "cell_type": "markdown",
      "metadata": {
        "id": "ROSDX5dyktFj"
      },
      "source": [
        "variable cant begin with number"
      ]
    },
    {
      "cell_type": "markdown",
      "metadata": {
        "id": "Qnv-huP1dWHn"
      },
      "source": [
        "9. What three functions can be used to get the integer, floating-point number, or string\n",
        "version of a value?"
      ]
    },
    {
      "cell_type": "markdown",
      "metadata": {
        "id": "dVHWVNYukyTg"
      },
      "source": [
        "- int()  \n",
        "- float()\n",
        "- str()"
      ]
    },
    {
      "cell_type": "code",
      "metadata": {
        "colab": {
          "base_uri": "https://localhost:8080/"
        },
        "id": "jelxXQg0lGVw",
        "outputId": "b50e4d24-507b-4c4f-d202-ca31023ffff4"
      },
      "source": [
        "print(type(int(5)))\n",
        "print(type(float(5)))\n",
        "print(type(str(5)))"
      ],
      "execution_count": 12,
      "outputs": [
        {
          "output_type": "stream",
          "text": [
            "<class 'int'>\n",
            "<class 'float'>\n",
            "<class 'str'>\n"
          ],
          "name": "stdout"
        }
      ]
    },
    {
      "cell_type": "markdown",
      "metadata": {
        "id": "WP_MQzkadYXS"
      },
      "source": [
        "10. Why does this expression cause an error? How can you fix it?\n",
        "- 'I have eaten ' + 99 + 'burritos.'"
      ]
    },
    {
      "cell_type": "markdown",
      "metadata": {
        "id": "QM-Qpi5olh_B"
      },
      "source": [
        "only strings can be concatenated to other strings with the + operator."
      ]
    },
    {
      "cell_type": "code",
      "metadata": {
        "colab": {
          "base_uri": "https://localhost:8080/",
          "height": 36
        },
        "id": "RCBNlKuqlxu7",
        "outputId": "f04b9778-1da0-4427-eb82-75ec9d153a42"
      },
      "source": [
        "'I have eaten ' + str(99) + ' burritos.' # this will do"
      ],
      "execution_count": 14,
      "outputs": [
        {
          "output_type": "execute_result",
          "data": {
            "application/vnd.google.colaboratory.intrinsic+json": {
              "type": "string"
            },
            "text/plain": [
              "'I have eaten 99 burritos.'"
            ]
          },
          "metadata": {
            "tags": []
          },
          "execution_count": 14
        }
      ]
    }
  ]
}