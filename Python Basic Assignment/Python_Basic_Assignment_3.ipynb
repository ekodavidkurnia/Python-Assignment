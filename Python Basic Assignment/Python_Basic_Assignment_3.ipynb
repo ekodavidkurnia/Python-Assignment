{
  "nbformat": 4,
  "nbformat_minor": 0,
  "metadata": {
    "colab": {
      "name": "Python Basic Assignment_3.ipynb",
      "provenance": [],
      "collapsed_sections": []
    },
    "kernelspec": {
      "name": "python3",
      "display_name": "Python 3"
    },
    "language_info": {
      "name": "python"
    }
  },
  "cells": [
    {
      "cell_type": "markdown",
      "metadata": {
        "id": "Xvw7JUfQv3SD"
      },
      "source": [
        "# Python Basic Assignment_3"
      ]
    },
    {
      "cell_type": "markdown",
      "metadata": {
        "id": "Lf5sQtX5wAMl"
      },
      "source": [
        "__1. Why are functions advantageous to have in your programs?__"
      ]
    },
    {
      "cell_type": "markdown",
      "metadata": {
        "id": "WAOjg2tuxX1O"
      },
      "source": [
        "Function will simplify the programs, makes programs shorter, easier to read, and easier to update. we just need to call the function that allows us to reduce a complicated program into smaller one. (reduces the overall complexity of our program)"
      ]
    },
    {
      "cell_type": "markdown",
      "metadata": {
        "id": "v57gl8mUwHeg"
      },
      "source": [
        "__2. When does the code in a function run: when it&#39;s specified or when it&#39;s called?__"
      ]
    },
    {
      "cell_type": "markdown",
      "metadata": {
        "id": "NF8_eTqOydFh"
      },
      "source": [
        "When it's called. When a function is called the program control jumps to that function definition and executes the statements inside the function body."
      ]
    },
    {
      "cell_type": "markdown",
      "metadata": {
        "id": "hzQsjRIXwR--"
      },
      "source": [
        "__3. What statement creates a function?__"
      ]
    },
    {
      "cell_type": "markdown",
      "metadata": {
        "id": "x8axdm47y9mu"
      },
      "source": [
        "“def” statement is used for defining a function in Python"
      ]
    },
    {
      "cell_type": "code",
      "metadata": {
        "colab": {
          "base_uri": "https://localhost:8080/",
          "height": 36
        },
        "id": "ON97LwO84U0Q",
        "outputId": "f24e6848-7547-4c6a-acc8-60973768b3bd"
      },
      "source": [
        "def greeting(a):\n",
        "  return 'Hello ' + str(a)\n",
        "\n",
        "greeting('Krish')"
      ],
      "execution_count": null,
      "outputs": [
        {
          "output_type": "execute_result",
          "data": {
            "application/vnd.google.colaboratory.intrinsic+json": {
              "type": "string"
            },
            "text/plain": [
              "'Hello Krish'"
            ]
          },
          "metadata": {
            "tags": []
          },
          "execution_count": 6
        }
      ]
    },
    {
      "cell_type": "markdown",
      "metadata": {
        "id": "xtENpZ4CwWvW"
      },
      "source": [
        "__4. What is the difference between a function and a function call?__"
      ]
    },
    {
      "cell_type": "markdown",
      "metadata": {
        "id": "8_IN6ktn58f1"
      },
      "source": [
        "- function : block of code that does a particular operation and returns a result. It usually accepts inputs as parameters and returns a result. The parameters are not mandatory.\n",
        "- function call : invoking or calling the function. Unless a function is called there is no use of that function."
      ]
    },
    {
      "cell_type": "code",
      "metadata": {
        "id": "VYIF_4RW6ivH"
      },
      "source": [
        "def greeting(a):              # function\n",
        "  return 'Hello ' + str(a)\n",
        "\n",
        "greeting('Krish')             # function call, whitout called function will not be executed "
      ],
      "execution_count": null,
      "outputs": []
    },
    {
      "cell_type": "markdown",
      "metadata": {
        "id": "cMByk2xfwbht"
      },
      "source": [
        "__5. How many global scopes are there in a Python program? How many local scopes?__"
      ]
    },
    {
      "cell_type": "markdown",
      "metadata": {
        "id": "Fo5YGOguG2NG"
      },
      "source": [
        "There is one global scope, and a local scope is created whenever a function is called."
      ]
    },
    {
      "cell_type": "markdown",
      "metadata": {
        "id": "0eG9s9977DUR"
      },
      "source": [
        "Basically there are (LEGB) Local, Enclosing, Global, and Built-in scopes. But, commonly distinguish by two general scopes "
      ]
    },
    {
      "cell_type": "markdown",
      "metadata": {
        "id": "ZTeRsLu--aAR"
      },
      "source": [
        "- Global scope: The names that define in this scope are available to all code. All of the names that you define at the top level of a program or a module.\n",
        "- Local scope: The names that define in this scope are only available or visible to the code within the scope. The code block or body of any Python function or lambda expression."
      ]
    },
    {
      "cell_type": "code",
      "metadata": {
        "colab": {
          "base_uri": "https://localhost:8080/"
        },
        "id": "U-29FGiN_frF",
        "outputId": "f0124a79-ffb9-46c0-9c9f-13f36b92e544"
      },
      "source": [
        "r = 10          # Global scope\n",
        "def sum(a):\n",
        "  r = a+5       # Local scope\n",
        "  return r\n",
        "sum(5)"
      ],
      "execution_count": 1,
      "outputs": [
        {
          "output_type": "execute_result",
          "data": {
            "text/plain": [
              "10"
            ]
          },
          "metadata": {
            "tags": []
          },
          "execution_count": 1
        }
      ]
    },
    {
      "cell_type": "markdown",
      "metadata": {
        "id": "ZbFNH_9ywegv"
      },
      "source": [
        "__6. What happens to variables in a local scope when the function call returns?__"
      ]
    },
    {
      "cell_type": "markdown",
      "metadata": {
        "id": "WD-QO2oqAgeN"
      },
      "source": [
        "- the function does not modify the global variable \n",
        "- it creates a new local variable, and assigns the value to that variable.\n",
        "- when a function returns, the local scope is destroyed, and all the variables in it are forgotten."
      ]
    },
    {
      "cell_type": "markdown",
      "metadata": {
        "id": "f0FeH1oEwiuV"
      },
      "source": [
        "__7. What is the concept of a return value? Is it possible to have a return value in an expression?__"
      ]
    },
    {
      "cell_type": "markdown",
      "metadata": {
        "id": "lPEu4PzgBqh1"
      },
      "source": [
        "- return send the function's result when the fucntion called\n",
        "- return value can be used as part of an expression, but it is not possible to have a return value outside function, it will give 'return' outside function error"
      ]
    },
    {
      "cell_type": "markdown",
      "metadata": {
        "id": "M9exXDlTwmkm"
      },
      "source": [
        "__8. If a function does not have a return statement, what is the return value of a call to that function?__"
      ]
    },
    {
      "cell_type": "markdown",
      "metadata": {
        "id": "i9jfen9fEDb9"
      },
      "source": [
        "it will return None"
      ]
    },
    {
      "cell_type": "code",
      "metadata": {
        "id": "qZIgQ_2aEGTt"
      },
      "source": [
        "def no_return():\n",
        "  r = 56+12\n",
        "\n",
        "no_return()"
      ],
      "execution_count": 3,
      "outputs": []
    },
    {
      "cell_type": "markdown",
      "metadata": {
        "id": "WaXF6LE7wr82"
      },
      "source": [
        "__9. How do you make a function variable refer to the global variable?__"
      ]
    },
    {
      "cell_type": "markdown",
      "metadata": {
        "id": "6J_4VhF5FEAF"
      },
      "source": [
        "use global statement to force the variable refer to global variable"
      ]
    },
    {
      "cell_type": "markdown",
      "metadata": {
        "id": "_oRfCipjwvDG"
      },
      "source": [
        "__10. What is the data type of None?__"
      ]
    },
    {
      "cell_type": "markdown",
      "metadata": {
        "id": "h6KXQ2oJEvPJ"
      },
      "source": [
        "NoneType"
      ]
    },
    {
      "cell_type": "code",
      "metadata": {
        "colab": {
          "base_uri": "https://localhost:8080/"
        },
        "id": "8G4Q8771Eoxe",
        "outputId": "b69174bb-10d4-4c74-d449-6df983c5393f"
      },
      "source": [
        "type(None)"
      ],
      "execution_count": 4,
      "outputs": [
        {
          "output_type": "execute_result",
          "data": {
            "text/plain": [
              "NoneType"
            ]
          },
          "metadata": {
            "tags": []
          },
          "execution_count": 4
        }
      ]
    },
    {
      "cell_type": "markdown",
      "metadata": {
        "id": "UvrPYPo_wxsu"
      },
      "source": [
        "__11. What does the sentence import areallyourpetsnamederic do?__"
      ]
    },
    {
      "cell_type": "markdown",
      "metadata": {
        "id": "SL1E5O27FTU3"
      },
      "source": [
        "it will import a module named areallyourpetsnamederi"
      ]
    },
    {
      "cell_type": "markdown",
      "metadata": {
        "id": "fskngTifw2An"
      },
      "source": [
        "__12. If you had a bacon() feature in a spam module, what would you call it after importing spam?__"
      ]
    },
    {
      "cell_type": "markdown",
      "metadata": {
        "id": "3JELLD2WH9rO"
      },
      "source": [
        "we can use spam.bacon()"
      ]
    },
    {
      "cell_type": "markdown",
      "metadata": {
        "id": "0_AwIcZxw5zZ"
      },
      "source": [
        "__13. What can you do to save a programme from crashing if it encounters an error?__"
      ]
    },
    {
      "cell_type": "markdown",
      "metadata": {
        "id": "eG3nINuJIHAN"
      },
      "source": [
        "place the code that might cause error inside try clause"
      ]
    },
    {
      "cell_type": "markdown",
      "metadata": {
        "id": "JbIQDdobw8nm"
      },
      "source": [
        "__14. What is the purpose of the try clause? What is the purpose of the except clause?__"
      ]
    },
    {
      "cell_type": "markdown",
      "metadata": {
        "id": "2pa6dZBNIiB2"
      },
      "source": [
        "- try clause : to place code that could potentially cause an error and save a programme from crashing\n",
        "- except clause : to place code that execute when an error happen"
      ]
    }
  ]
}