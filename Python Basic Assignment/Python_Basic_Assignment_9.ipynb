{
  "nbformat": 4,
  "nbformat_minor": 0,
  "metadata": {
    "colab": {
      "name": "Python Basic Assignment_9.ipynb",
      "provenance": []
    },
    "kernelspec": {
      "name": "python3",
      "display_name": "Python 3"
    },
    "language_info": {
      "name": "python"
    }
  },
  "cells": [
    {
      "cell_type": "markdown",
      "metadata": {
        "id": "kfy9LPir9grl"
      },
      "source": [
        "# Python Basic Assignment_9"
      ]
    },
    {
      "cell_type": "markdown",
      "metadata": {
        "id": "WTZ5bKYq-6XH"
      },
      "source": [
        "__1. To what does a relative path refer?__"
      ]
    },
    {
      "cell_type": "markdown",
      "metadata": {
        "id": "NnpSVi25_Wfm"
      },
      "source": [
        "Relative path refer to current directory. Relative Path is the hierarchical path that locates a file or folder on a file system starting from the current directory."
      ]
    },
    {
      "cell_type": "markdown",
      "metadata": {
        "id": "LyQCYQW9-8ls"
      },
      "source": [
        "__2. What does an absolute path start with your operating system?__"
      ]
    },
    {
      "cell_type": "markdown",
      "metadata": {
        "id": "yaF0Hm--_0Uv"
      },
      "source": [
        "Absolut path locates the file or folder starting from the root of the file system, such as C:\\\\"
      ]
    },
    {
      "cell_type": "markdown",
      "metadata": {
        "id": "0kiZBRZw-8eo"
      },
      "source": [
        "__3. What do the functions os.getcwd() and os.chdir() do?__"
      ]
    },
    {
      "cell_type": "markdown",
      "metadata": {
        "id": "7Rc7BFpSAGNG"
      },
      "source": [
        "- os.getcwd() : function that returns current working directory\n",
        "- os.chdir() : function that changes current working directory"
      ]
    },
    {
      "cell_type": "markdown",
      "metadata": {
        "id": "EpShvVDN_CU3"
      },
      "source": [
        "__4. What are the . and .. folders?__"
      ]
    },
    {
      "cell_type": "markdown",
      "metadata": {
        "id": "k9YCgEoaAVxO"
      },
      "source": [
        "- __.__ folders : current folder\n",
        "- __..__ folders : parent folder  "
      ]
    },
    {
      "cell_type": "markdown",
      "metadata": {
        "id": "lo2U7q2H_D86"
      },
      "source": [
        "__5. In C:\\bacon\\eggs\\spam.txt, which part is the dir name, and which part is the base name?__"
      ]
    },
    {
      "cell_type": "markdown",
      "metadata": {
        "id": "EuB7mslVArq4"
      },
      "source": [
        "C:\\bacon\\eggs\\spam.txt\n",
        "\n",
        "- dir name : C:\\bacon\\eggs\n",
        "- base name : spam.txt"
      ]
    },
    {
      "cell_type": "markdown",
      "metadata": {
        "id": "U9g3YTek_GeX"
      },
      "source": [
        "__6. What are the three “mode” arguments that can be passed to the open() function?__"
      ]
    },
    {
      "cell_type": "markdown",
      "metadata": {
        "id": "203HPrfDBCPd"
      },
      "source": [
        "- 'r' : read mode\n",
        "- 'w' : write mode\n",
        "- 'a' : append mode"
      ]
    },
    {
      "cell_type": "markdown",
      "metadata": {
        "id": "ZIXcjGbM_Iv5"
      },
      "source": [
        "__7. What happens if an existing file is opened in write mode?__"
      ]
    },
    {
      "cell_type": "markdown",
      "metadata": {
        "id": "liQrc2VLBSph"
      },
      "source": [
        "the existing file will completely overwritten"
      ]
    },
    {
      "cell_type": "markdown",
      "metadata": {
        "id": "yAKPxfoG_MAU"
      },
      "source": [
        "__8. How do you tell the difference between read() and readlines()?__"
      ]
    },
    {
      "cell_type": "markdown",
      "metadata": {
        "id": "A8SnYGTfBafu"
      },
      "source": [
        "- read() : return entire contents as a single string from the current cursor\n",
        "- readlines() : read all the lines at a single go and then return them as each line a string element in a list"
      ]
    },
    {
      "cell_type": "markdown",
      "metadata": {
        "id": "WeHfwVMZ_NpY"
      },
      "source": [
        "__9. What data structure does a shelf value resemble?__"
      ]
    },
    {
      "cell_type": "markdown",
      "metadata": {
        "id": "t-gje4k7CHO8"
      },
      "source": [
        "We can make changes to the shelf value as if it were a dictionary. "
      ]
    }
  ]
}