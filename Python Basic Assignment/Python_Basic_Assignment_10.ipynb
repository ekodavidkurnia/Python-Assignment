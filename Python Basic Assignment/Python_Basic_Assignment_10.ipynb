{
  "nbformat": 4,
  "nbformat_minor": 0,
  "metadata": {
    "colab": {
      "name": "Python Basic Assignment_10.ipynb",
      "provenance": []
    },
    "kernelspec": {
      "name": "python3",
      "display_name": "Python 3"
    },
    "language_info": {
      "name": "python"
    }
  },
  "cells": [
    {
      "cell_type": "markdown",
      "metadata": {
        "id": "PdM8VJKZEEY0"
      },
      "source": [
        "# Python Basic Assignment_10"
      ]
    },
    {
      "cell_type": "markdown",
      "metadata": {
        "id": "eqkRWYwEEGbP"
      },
      "source": [
        "__1. How do you distinguish between shutil.copy() and shutil.copytree()?__"
      ]
    },
    {
      "cell_type": "markdown",
      "metadata": {
        "id": "tFwi2qvWEV-5"
      },
      "source": [
        "- shutil.copy() : will copy a single file\n",
        "- shutil.copytree() : will copy entire folder, along whit all its contents"
      ]
    },
    {
      "cell_type": "markdown",
      "metadata": {
        "id": "Z9vIDkJLEKzs"
      },
      "source": [
        "__2. What function is used to rename files??__"
      ]
    },
    {
      "cell_type": "markdown",
      "metadata": {
        "id": "0Cdx-HlrEn7t"
      },
      "source": [
        "- os.rename()\n",
        "- shutil.move() --> ( If the file is open, for instance, shutil.move will create a file with new_name, but will not delete the file with old_name hence leaving two files)"
      ]
    },
    {
      "cell_type": "markdown",
      "metadata": {
        "id": "NBvLWFreEM3G"
      },
      "source": [
        "__3. What is the difference between the delete functions in the send2trash and shutil modules?__"
      ]
    },
    {
      "cell_type": "markdown",
      "metadata": {
        "id": "9DqIQalrFp1t"
      },
      "source": [
        "delete function\n",
        "\n",
        " - send2trash module : move a file to recycle bin\n",
        " - shutil module : permanently delete files and folders"
      ]
    },
    {
      "cell_type": "markdown",
      "metadata": {
        "id": "ZErrZmdLEP8E"
      },
      "source": [
        "__4.ZipFile objects have a close() method just like File objects’ close() method. What ZipFile method is equivalent to File objects’ open() method?__"
      ]
    },
    {
      "cell_type": "markdown",
      "metadata": {
        "id": "cBwaAiFHGV9c"
      },
      "source": [
        "zipfile.Zipfile() is equivalent to open() that have (read, write or append) mode"
      ]
    },
    {
      "cell_type": "markdown",
      "metadata": {
        "id": "fygKXzWUER6t"
      },
      "source": [
        "__5. Create a programme that searches a folder tree for files with a certain file extension (such as .pdf or .jpg). Copy these files from whatever location they are in to a new folder.__"
      ]
    },
    {
      "cell_type": "code",
      "metadata": {
        "colab": {
          "base_uri": "https://localhost:8080/"
        },
        "id": "Vo4zcTLcEB-a",
        "outputId": "276ec8df-6d9a-436e-fb17-c337033799cd"
      },
      "source": [
        "import os, shutil\n",
        "\n",
        "def createCopy(folder, extensions, new_file):\n",
        "    folder = os.path.abspath(folder)\n",
        "    destFolder = os.mkdir(new_file)\n",
        "    print('Search in', folder, 'for files with extensions of', ', '.join(extensions))\n",
        "    for foldername, subfolders, filenames in os.walk(folder):\n",
        "        for filename in filenames:\n",
        "            name, extension = os.path.splitext(filename)\n",
        "            if extension in extensions:\n",
        "                fileAbsPath = foldername + os.path.sep + filename\n",
        "                print('Copying', fileAbsPath, 'to', new_file)\n",
        "                shutil.copy(fileAbsPath, new_file)\n",
        "\n",
        "extensions = ['.pdf', '.jpg']\n",
        "folder = 'Old Folder'\n",
        "new_file = 'New Copy Folder'\n",
        "createCopy(folder, extensions, new_file)"
      ],
      "execution_count": 2,
      "outputs": [
        {
          "output_type": "stream",
          "text": [
            "Search in /content/Old Folder for files with extensions of .pdf, .jpg\n"
          ],
          "name": "stdout"
        }
      ]
    },
    {
      "cell_type": "code",
      "metadata": {
        "id": "yDns8AZsPhOC"
      },
      "source": [
        ""
      ],
      "execution_count": null,
      "outputs": []
    }
  ]
}