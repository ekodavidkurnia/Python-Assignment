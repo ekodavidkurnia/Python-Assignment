{
  "nbformat": 4,
  "nbformat_minor": 0,
  "metadata": {
    "colab": {
      "name": "Python Basic Assignment_8.ipynb",
      "provenance": []
    },
    "kernelspec": {
      "name": "python3",
      "display_name": "Python 3"
    },
    "language_info": {
      "name": "python"
    }
  },
  "cells": [
    {
      "cell_type": "markdown",
      "metadata": {
        "id": "bZRVvchyUgtU"
      },
      "source": [
        "# Python Basic Assignment_8"
      ]
    },
    {
      "cell_type": "markdown",
      "metadata": {
        "id": "xRZQqQbiUidZ"
      },
      "source": [
        "__1. Is the Python Standard Library included with PyInputPlus?__"
      ]
    },
    {
      "cell_type": "markdown",
      "metadata": {
        "id": "36cs8HBRVnqX"
      },
      "source": [
        "PyInputPlus is not a part of the Python Standard Library, so we must install it separately using Pip"
      ]
    },
    {
      "cell_type": "markdown",
      "metadata": {
        "id": "-qm8qYSQUmeg"
      },
      "source": [
        "__2. Why is PyInputPlus commonly imported with import pyinputplus as pypi?__"
      ]
    },
    {
      "cell_type": "markdown",
      "metadata": {
        "id": "n9emgOFHVuo-"
      },
      "source": [
        "It’s recommended to import PyInputPlus with the shorter name pyip to simplify the code and saves us from typing pyinputplus each time we want to call a PyInputPlus function"
      ]
    },
    {
      "cell_type": "markdown",
      "metadata": {
        "id": "hmlOP3_PUsIC"
      },
      "source": [
        "__3. How do you distinguish between inputInt() and inputFloat()?__"
      ]
    },
    {
      "cell_type": "markdown",
      "metadata": {
        "id": "eTWewuoGWu2V"
      },
      "source": [
        ""
      ]
    },
    {
      "cell_type": "markdown",
      "metadata": {
        "id": "EpZ_w-9UUuLH"
      },
      "source": [
        "__4. Using PyInputPlus, how do you ensure that the user enters a whole number between 0 and 99?__"
      ]
    },
    {
      "cell_type": "markdown",
      "metadata": {
        "id": "FSAW2164XsWV"
      },
      "source": [
        "response = pyip.inputNum('>', min=0, lessThan=99)"
      ]
    },
    {
      "cell_type": "markdown",
      "metadata": {
        "id": "B76noxoBUzpt"
      },
      "source": [
        "__5. What is transferred to the keyword arguments allowRegexes and blockRegexes?__"
      ]
    },
    {
      "cell_type": "markdown",
      "metadata": {
        "id": "zVakqvpxXyt8"
      },
      "source": [
        "list of regular expression strings to determine what the PyInputPlus function will accept or reject as valid input"
      ]
    },
    {
      "cell_type": "markdown",
      "metadata": {
        "id": "-thkhvdKU08b"
      },
      "source": [
        "__6. If a blank input is entered three times, what does inputStr(limit=3) do?__"
      ]
    },
    {
      "cell_type": "markdown",
      "metadata": {
        "id": "1bDVSUS-Zuyl"
      },
      "source": [
        "Blank values are not allowed three times and RetryLimitException error"
      ]
    },
    {
      "cell_type": "markdown",
      "metadata": {
        "id": "8d5Qy_vOU5Sm"
      },
      "source": [
        "__7. If blank input is entered three times, what does inputStr(limit=3, default='hello') do?__"
      ]
    },
    {
      "cell_type": "markdown",
      "metadata": {
        "id": "O0UJRlgYahfQ"
      },
      "source": [
        "Blank values are not allowed three times and 'hello' for the last try"
      ]
    }
  ]
}