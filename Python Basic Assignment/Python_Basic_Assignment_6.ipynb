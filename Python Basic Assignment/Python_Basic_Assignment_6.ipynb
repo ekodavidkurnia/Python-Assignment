{
  "nbformat": 4,
  "nbformat_minor": 0,
  "metadata": {
    "colab": {
      "name": "Python Basic Assignment_6.ipynb",
      "provenance": []
    },
    "kernelspec": {
      "name": "python3",
      "display_name": "Python 3"
    },
    "language_info": {
      "name": "python"
    }
  },
  "cells": [
    {
      "cell_type": "markdown",
      "metadata": {
        "id": "GAhJH4m1rbO6"
      },
      "source": [
        "# Python Basic Assignment_6"
      ]
    },
    {
      "cell_type": "markdown",
      "metadata": {
        "id": "BMgsEIsIrd-e"
      },
      "source": [
        "__1. What are escape characters, and how do you use them?__"
      ]
    },
    {
      "cell_type": "markdown",
      "metadata": {
        "id": "48KabQl6tSi_"
      },
      "source": [
        "Escape characters use to insert characters that are illegal in a string\n",
        "\n",
        "An escape character is a backslash \\ followed by the character you want to insert."
      ]
    },
    {
      "cell_type": "code",
      "metadata": {
        "colab": {
          "base_uri": "https://localhost:8080/",
          "height": 137
        },
        "id": "0uueHP9Atkmi",
        "outputId": "fc560b89-afe4-49b0-db86-78a4f3eab7a4"
      },
      "source": [
        "print(\"We are the so-called \"beginner\" code warior.\")"
      ],
      "execution_count": 4,
      "outputs": [
        {
          "output_type": "error",
          "ename": "SyntaxError",
          "evalue": "ignored",
          "traceback": [
            "\u001b[0;36m  File \u001b[0;32m\"<ipython-input-4-72f36167a3bc>\"\u001b[0;36m, line \u001b[0;32m1\u001b[0m\n\u001b[0;31m    print(\"We are the so-called \"beginner\" code warior.\")\u001b[0m\n\u001b[0m                                        ^\u001b[0m\n\u001b[0;31mSyntaxError\u001b[0m\u001b[0;31m:\u001b[0m invalid syntax\n"
          ]
        }
      ]
    },
    {
      "cell_type": "code",
      "metadata": {
        "colab": {
          "base_uri": "https://localhost:8080/"
        },
        "id": "Z17gJ1fKt4wf",
        "outputId": "235363f4-1413-497c-da16-2f9d8837f2e4"
      },
      "source": [
        "print(\"We are the so-called \\\"beginner\\\" code warior.\")"
      ],
      "execution_count": 3,
      "outputs": [
        {
          "output_type": "stream",
          "text": [
            "We are the so-called \"beginner\" code warior.\n"
          ],
          "name": "stdout"
        }
      ]
    },
    {
      "cell_type": "markdown",
      "metadata": {
        "id": "ceJDdHZ9rh6B"
      },
      "source": [
        "__2. What do the escape characters n and t stand for?__"
      ]
    },
    {
      "cell_type": "markdown",
      "metadata": {
        "id": "iimiqXEIuURF"
      },
      "source": [
        "- \\n : new line\n",
        "- \\t : tab"
      ]
    },
    {
      "cell_type": "markdown",
      "metadata": {
        "id": "nqgckDGVrk46"
      },
      "source": [
        "__3. What is the way to include backslash characters in a string?__"
      ]
    },
    {
      "cell_type": "markdown",
      "metadata": {
        "id": "tgC2PtSbujt-"
      },
      "source": [
        "use \\\\ escape character that represent backlash"
      ]
    },
    {
      "cell_type": "markdown",
      "metadata": {
        "id": "jVnQEk9xrn9M"
      },
      "source": [
        "__4. The string \"Howl's Moving Castle\" is a correct value. Why isn't the single quote character in the word Howl's not escaped a problem?__"
      ]
    },
    {
      "cell_type": "markdown",
      "metadata": {
        "id": "8OvPBi_0uvbU"
      },
      "source": [
        "\"Howl's Moving Castle\" use double quotes mark at the beginning and the end of the string"
      ]
    },
    {
      "cell_type": "markdown",
      "metadata": {
        "id": "Ji9IkCigrqnn"
      },
      "source": [
        "__5. How do you write a string of newlines if you don't want to use the n character?__"
      ]
    },
    {
      "cell_type": "markdown",
      "metadata": {
        "id": "DvhCEn4uvan_"
      },
      "source": [
        "use multiline strings"
      ]
    },
    {
      "cell_type": "code",
      "metadata": {
        "colab": {
          "base_uri": "https://localhost:8080/"
        },
        "id": "FzoZeA6DwIm_",
        "outputId": "1c95b43a-25e2-4609-c962-f9e29cb79e08"
      },
      "source": [
        "a = \"\"\"Lorem ipsum dolor sit amet,\n",
        "consectetur adipiscing elit,\n",
        "sed do eiusmod tempor incididunt\n",
        "ut labore et dolore magna aliqua.\"\"\"\n",
        "print(a)"
      ],
      "execution_count": 5,
      "outputs": [
        {
          "output_type": "stream",
          "text": [
            "Lorem ipsum dolor sit amet,\n",
            "consectetur adipiscing elit,\n",
            "sed do eiusmod tempor incididunt\n",
            "ut labore et dolore magna aliqua.\n"
          ],
          "name": "stdout"
        }
      ]
    },
    {
      "cell_type": "markdown",
      "metadata": {
        "id": "Aj9DUqQyrtGU"
      },
      "source": [
        "__6. What are the values of the given expressions?__\n"
      ]
    },
    {
      "cell_type": "markdown",
      "metadata": {
        "id": "lYHTJsCWr3hM"
      },
      "source": [
        "- 'Hello, world!'[1] --> 'e'\n",
        "- 'Hello, world!'[0:5] --> 'Hello' \n",
        "- 'Hello, world!'[:5] --> 'Hello'\n",
        "- 'Hello, world!'[3:] --> 'lo, world!' \n"
      ]
    },
    {
      "cell_type": "markdown",
      "metadata": {
        "id": "eJjZyA-vr9JA"
      },
      "source": [
        "__7. What are the values of the following expressions?__\n",
        "\n"
      ]
    },
    {
      "cell_type": "markdown",
      "metadata": {
        "id": "jOtcg37jsAX9"
      },
      "source": [
        "- 'Hello'.upper() --> 'HELLO\"\n",
        "- 'Hello'.upper().isupper() --> True\n",
        "- 'Hello'.upper().lower() --> 'hello'"
      ]
    },
    {
      "cell_type": "markdown",
      "metadata": {
        "id": "U1YlFqDbsDF5"
      },
      "source": [
        "__8. What are the values of the following expressions?__\n"
      ]
    },
    {
      "cell_type": "markdown",
      "metadata": {
        "id": "fYtKBdT7sKKJ"
      },
      "source": [
        "- 'Remember, remember, the fifth of July.'.split() --> ['Remember,' , 'remember,' , 'the' , 'fifth' , 'of' , 'July.']\n",
        "- '-'.join('There can only one.'.split()) --> 'There-can-only-one.'"
      ]
    },
    {
      "cell_type": "markdown",
      "metadata": {
        "id": "8h8QouxVsMKD"
      },
      "source": [
        "__9. What are the methods for right-justifying, left-justifying, and centering a string?__"
      ]
    },
    {
      "cell_type": "markdown",
      "metadata": {
        "id": "bk0YdRBkxM75"
      },
      "source": [
        "- right-justifying : rjust()\n",
        "- left-justifying : ljust()\n",
        "- centering : center()"
      ]
    },
    {
      "cell_type": "markdown",
      "metadata": {
        "id": "yS20xp5osRo_"
      },
      "source": [
        "__10. What is the best way to remove whitespace characters from the start or end?__"
      ]
    },
    {
      "cell_type": "markdown",
      "metadata": {
        "id": "zoTGIM8Vx9HT"
      },
      "source": [
        "- strip() --> remove right and left whitespace\n",
        "- rigth() --> remove right whitespace\n",
        "- left() --> remove left whitespace"
      ]
    }
  ]
}